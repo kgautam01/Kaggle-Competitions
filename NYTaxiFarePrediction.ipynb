{
 "cells": [
  {
   "cell_type": "markdown",
   "id": "610837b8",
   "metadata": {},
   "source": [
    "### **Q6: Kaggle - Taxi Fare Prediction**"
   ]
  },
  {
   "cell_type": "markdown",
   "id": "06f7bc2a",
   "metadata": {},
   "source": [
    "#### **Basic Intuition about how taxi fares vary in New York (or in general)**\n",
    "1. Fares highly depend on weather (fall, autumn), time of the day (peak hours of the day or not), etc.\n",
    "2. Fares can be very less in case some coupon/discount is applied by the customer.\n",
    "3. Fares also vary depending on the distance and the waiting time due to traffic or any other reason.\n",
    "4. Fares also vary if there is a surge in fuel prices.\n",
    "\n",
    "_*Keeping these pointers in mind, let's analyse the data and see what information related to any of the above mentioned factors can be extracted to prepare a better dataset.*_"
   ]
  },
  {
   "cell_type": "code",
   "execution_count": 1,
   "id": "44db9346",
   "metadata": {},
   "outputs": [],
   "source": [
    "import pandas as pd\n",
    "import numpy as np\n",
    "import random\n",
    "from sklearn.ensemble import RandomForestRegressor, GradientBoostingRegressor\n",
    "from sklearn.linear_model import LinearRegression\n",
    "from sklearn.linear_model import Ridge\n",
    "from xgboost import XGBRegressor\n",
    "from sklearn.model_selection import GridSearchCV\n",
    "from sklearn.model_selection import KFold\n",
    "from sklearn.model_selection import cross_val_score\n",
    "from numpy import cos, sin, arcsin, sqrt\n",
    "from math import radians\n",
    "import matplotlib.pyplot as plt\n",
    "from collections import Counter\n",
    "\n",
    "random.seed(999)\n",
    "np.random.seed(999)"
   ]
  },
  {
   "cell_type": "code",
   "execution_count": 27,
   "id": "3dc3b24b",
   "metadata": {},
   "outputs": [],
   "source": [
    "# train, test = pd.read_csv('train.csv'), pd.read_csv('test.csv')\n",
    "# train.sample(10000000, random_state=999).to_csv('train_sub.csv') \n",
    "\n",
    "# This was done to avoid loading the whole dataset again and again. Was very time taking."
   ]
  },
  {
   "cell_type": "markdown",
   "id": "89246930",
   "metadata": {},
   "source": [
    "### **Training the model for 10M data points randomly sampled from the given dataset.**"
   ]
  },
  {
   "cell_type": "code",
   "execution_count": 2,
   "id": "909593f6",
   "metadata": {},
   "outputs": [],
   "source": [
    "# train_sub is the subset of original data containing 10M data points.\n",
    "train, test = pd.read_csv('train_sub.csv'), pd.read_csv('test.csv')"
   ]
  },
  {
   "cell_type": "code",
   "execution_count": 3,
   "id": "39e08029",
   "metadata": {},
   "outputs": [
    {
     "data": {
      "text/plain": [
       "((10000000, 8), (9914, 7))"
      ]
     },
     "execution_count": 3,
     "metadata": {},
     "output_type": "execute_result"
    }
   ],
   "source": [
    "train.shape, test.shape"
   ]
  },
  {
   "cell_type": "code",
   "execution_count": 4,
   "id": "ade9efd3",
   "metadata": {},
   "outputs": [
    {
     "name": "stdout",
     "output_type": "stream",
     "text": [
      "<class 'pandas.core.frame.DataFrame'>\n",
      "RangeIndex: 10000000 entries, 0 to 9999999\n",
      "Data columns (total 8 columns):\n",
      "key                  object\n",
      "fare_amount          float64\n",
      "pickup_datetime      object\n",
      "pickup_longitude     float64\n",
      "pickup_latitude      float64\n",
      "dropoff_longitude    float64\n",
      "dropoff_latitude     float64\n",
      "passenger_count      int64\n",
      "dtypes: float64(5), int64(1), object(2)\n",
      "memory usage: 610.4+ MB\n"
     ]
    }
   ],
   "source": [
    "train.info()"
   ]
  },
  {
   "cell_type": "code",
   "execution_count": 5,
   "id": "3cb40fdf",
   "metadata": {},
   "outputs": [
    {
     "name": "stdout",
     "output_type": "stream",
     "text": [
      "<class 'pandas.core.frame.DataFrame'>\n",
      "RangeIndex: 9914 entries, 0 to 9913\n",
      "Data columns (total 7 columns):\n",
      "key                  9914 non-null object\n",
      "pickup_datetime      9914 non-null object\n",
      "pickup_longitude     9914 non-null float64\n",
      "pickup_latitude      9914 non-null float64\n",
      "dropoff_longitude    9914 non-null float64\n",
      "dropoff_latitude     9914 non-null float64\n",
      "passenger_count      9914 non-null int64\n",
      "dtypes: float64(4), int64(1), object(2)\n",
      "memory usage: 542.3+ KB\n"
     ]
    }
   ],
   "source": [
    "test.info()"
   ]
  },
  {
   "cell_type": "code",
   "execution_count": 6,
   "id": "3e9b3f7f",
   "metadata": {},
   "outputs": [
    {
     "data": {
      "text/html": [
       "<div>\n",
       "<style scoped>\n",
       "    .dataframe tbody tr th:only-of-type {\n",
       "        vertical-align: middle;\n",
       "    }\n",
       "\n",
       "    .dataframe tbody tr th {\n",
       "        vertical-align: top;\n",
       "    }\n",
       "\n",
       "    .dataframe thead th {\n",
       "        text-align: right;\n",
       "    }\n",
       "</style>\n",
       "<table border=\"1\" class=\"dataframe\">\n",
       "  <thead>\n",
       "    <tr style=\"text-align: right;\">\n",
       "      <th></th>\n",
       "      <th>fare_amount</th>\n",
       "      <th>pickup_longitude</th>\n",
       "      <th>pickup_latitude</th>\n",
       "      <th>dropoff_longitude</th>\n",
       "      <th>dropoff_latitude</th>\n",
       "      <th>passenger_count</th>\n",
       "    </tr>\n",
       "  </thead>\n",
       "  <tbody>\n",
       "    <tr>\n",
       "      <th>count</th>\n",
       "      <td>1.000000e+07</td>\n",
       "      <td>1.000000e+07</td>\n",
       "      <td>1.000000e+07</td>\n",
       "      <td>1.000000e+07</td>\n",
       "      <td>1.000000e+07</td>\n",
       "      <td>1.000000e+07</td>\n",
       "    </tr>\n",
       "    <tr>\n",
       "      <th>mean</th>\n",
       "      <td>1.130970e+01</td>\n",
       "      <td>-7.397511e+01</td>\n",
       "      <td>4.075111e+01</td>\n",
       "      <td>-7.397427e+01</td>\n",
       "      <td>4.075147e+01</td>\n",
       "      <td>1.685310e+00</td>\n",
       "    </tr>\n",
       "    <tr>\n",
       "      <th>std</th>\n",
       "      <td>9.619489e+00</td>\n",
       "      <td>3.823555e-02</td>\n",
       "      <td>2.939274e-02</td>\n",
       "      <td>3.732375e-02</td>\n",
       "      <td>3.261382e-02</td>\n",
       "      <td>1.313272e+00</td>\n",
       "    </tr>\n",
       "    <tr>\n",
       "      <th>min</th>\n",
       "      <td>-9.500000e+01</td>\n",
       "      <td>-7.426300e+01</td>\n",
       "      <td>4.056900e+01</td>\n",
       "      <td>-7.426300e+01</td>\n",
       "      <td>4.056900e+01</td>\n",
       "      <td>0.000000e+00</td>\n",
       "    </tr>\n",
       "    <tr>\n",
       "      <th>25%</th>\n",
       "      <td>6.000000e+00</td>\n",
       "      <td>-7.399200e+01</td>\n",
       "      <td>4.073700e+01</td>\n",
       "      <td>-7.399200e+01</td>\n",
       "      <td>4.073600e+01</td>\n",
       "      <td>1.000000e+00</td>\n",
       "    </tr>\n",
       "    <tr>\n",
       "      <th>50%</th>\n",
       "      <td>8.500000e+00</td>\n",
       "      <td>-7.398200e+01</td>\n",
       "      <td>4.075300e+01</td>\n",
       "      <td>-7.398100e+01</td>\n",
       "      <td>4.075400e+01</td>\n",
       "      <td>1.000000e+00</td>\n",
       "    </tr>\n",
       "    <tr>\n",
       "      <th>75%</th>\n",
       "      <td>1.250000e+01</td>\n",
       "      <td>-7.396800e+01</td>\n",
       "      <td>4.076800e+01</td>\n",
       "      <td>-7.396500e+01</td>\n",
       "      <td>4.076800e+01</td>\n",
       "      <td>2.000000e+00</td>\n",
       "    </tr>\n",
       "    <tr>\n",
       "      <th>max</th>\n",
       "      <td>9.000000e+02</td>\n",
       "      <td>-7.299300e+01</td>\n",
       "      <td>4.170600e+01</td>\n",
       "      <td>-7.298800e+01</td>\n",
       "      <td>4.170600e+01</td>\n",
       "      <td>2.080000e+02</td>\n",
       "    </tr>\n",
       "  </tbody>\n",
       "</table>\n",
       "</div>"
      ],
      "text/plain": [
       "        fare_amount  pickup_longitude  pickup_latitude  dropoff_longitude  \\\n",
       "count  1.000000e+07      1.000000e+07     1.000000e+07       1.000000e+07   \n",
       "mean   1.130970e+01     -7.397511e+01     4.075111e+01      -7.397427e+01   \n",
       "std    9.619489e+00      3.823555e-02     2.939274e-02       3.732375e-02   \n",
       "min   -9.500000e+01     -7.426300e+01     4.056900e+01      -7.426300e+01   \n",
       "25%    6.000000e+00     -7.399200e+01     4.073700e+01      -7.399200e+01   \n",
       "50%    8.500000e+00     -7.398200e+01     4.075300e+01      -7.398100e+01   \n",
       "75%    1.250000e+01     -7.396800e+01     4.076800e+01      -7.396500e+01   \n",
       "max    9.000000e+02     -7.299300e+01     4.170600e+01      -7.298800e+01   \n",
       "\n",
       "       dropoff_latitude  passenger_count  \n",
       "count      1.000000e+07     1.000000e+07  \n",
       "mean       4.075147e+01     1.685310e+00  \n",
       "std        3.261382e-02     1.313272e+00  \n",
       "min        4.056900e+01     0.000000e+00  \n",
       "25%        4.073600e+01     1.000000e+00  \n",
       "50%        4.075400e+01     1.000000e+00  \n",
       "75%        4.076800e+01     2.000000e+00  \n",
       "max        4.170600e+01     2.080000e+02  "
      ]
     },
     "execution_count": 6,
     "metadata": {},
     "output_type": "execute_result"
    }
   ],
   "source": [
    "train.describe()"
   ]
  },
  {
   "cell_type": "code",
   "execution_count": 7,
   "id": "49b9f201",
   "metadata": {},
   "outputs": [
    {
     "data": {
      "text/html": [
       "<div>\n",
       "<style scoped>\n",
       "    .dataframe tbody tr th:only-of-type {\n",
       "        vertical-align: middle;\n",
       "    }\n",
       "\n",
       "    .dataframe tbody tr th {\n",
       "        vertical-align: top;\n",
       "    }\n",
       "\n",
       "    .dataframe thead th {\n",
       "        text-align: right;\n",
       "    }\n",
       "</style>\n",
       "<table border=\"1\" class=\"dataframe\">\n",
       "  <thead>\n",
       "    <tr style=\"text-align: right;\">\n",
       "      <th></th>\n",
       "      <th>pickup_longitude</th>\n",
       "      <th>pickup_latitude</th>\n",
       "      <th>dropoff_longitude</th>\n",
       "      <th>dropoff_latitude</th>\n",
       "      <th>passenger_count</th>\n",
       "    </tr>\n",
       "  </thead>\n",
       "  <tbody>\n",
       "    <tr>\n",
       "      <th>count</th>\n",
       "      <td>9914.000000</td>\n",
       "      <td>9914.000000</td>\n",
       "      <td>9914.000000</td>\n",
       "      <td>9914.000000</td>\n",
       "      <td>9914.000000</td>\n",
       "    </tr>\n",
       "    <tr>\n",
       "      <th>mean</th>\n",
       "      <td>-73.974722</td>\n",
       "      <td>40.751041</td>\n",
       "      <td>-73.973657</td>\n",
       "      <td>40.751743</td>\n",
       "      <td>1.671273</td>\n",
       "    </tr>\n",
       "    <tr>\n",
       "      <th>std</th>\n",
       "      <td>0.042774</td>\n",
       "      <td>0.033541</td>\n",
       "      <td>0.039072</td>\n",
       "      <td>0.035435</td>\n",
       "      <td>1.278747</td>\n",
       "    </tr>\n",
       "    <tr>\n",
       "      <th>min</th>\n",
       "      <td>-74.252193</td>\n",
       "      <td>40.573143</td>\n",
       "      <td>-74.263242</td>\n",
       "      <td>40.568973</td>\n",
       "      <td>1.000000</td>\n",
       "    </tr>\n",
       "    <tr>\n",
       "      <th>25%</th>\n",
       "      <td>-73.992501</td>\n",
       "      <td>40.736125</td>\n",
       "      <td>-73.991247</td>\n",
       "      <td>40.735254</td>\n",
       "      <td>1.000000</td>\n",
       "    </tr>\n",
       "    <tr>\n",
       "      <th>50%</th>\n",
       "      <td>-73.982326</td>\n",
       "      <td>40.753051</td>\n",
       "      <td>-73.980015</td>\n",
       "      <td>40.754065</td>\n",
       "      <td>1.000000</td>\n",
       "    </tr>\n",
       "    <tr>\n",
       "      <th>75%</th>\n",
       "      <td>-73.968013</td>\n",
       "      <td>40.767113</td>\n",
       "      <td>-73.964059</td>\n",
       "      <td>40.768757</td>\n",
       "      <td>2.000000</td>\n",
       "    </tr>\n",
       "    <tr>\n",
       "      <th>max</th>\n",
       "      <td>-72.986532</td>\n",
       "      <td>41.709555</td>\n",
       "      <td>-72.990963</td>\n",
       "      <td>41.696683</td>\n",
       "      <td>6.000000</td>\n",
       "    </tr>\n",
       "  </tbody>\n",
       "</table>\n",
       "</div>"
      ],
      "text/plain": [
       "       pickup_longitude  pickup_latitude  dropoff_longitude  dropoff_latitude  \\\n",
       "count       9914.000000      9914.000000        9914.000000       9914.000000   \n",
       "mean         -73.974722        40.751041         -73.973657         40.751743   \n",
       "std            0.042774         0.033541           0.039072          0.035435   \n",
       "min          -74.252193        40.573143         -74.263242         40.568973   \n",
       "25%          -73.992501        40.736125         -73.991247         40.735254   \n",
       "50%          -73.982326        40.753051         -73.980015         40.754065   \n",
       "75%          -73.968013        40.767113         -73.964059         40.768757   \n",
       "max          -72.986532        41.709555         -72.990963         41.696683   \n",
       "\n",
       "       passenger_count  \n",
       "count      9914.000000  \n",
       "mean          1.671273  \n",
       "std           1.278747  \n",
       "min           1.000000  \n",
       "25%           1.000000  \n",
       "50%           1.000000  \n",
       "75%           2.000000  \n",
       "max           6.000000  "
      ]
     },
     "execution_count": 7,
     "metadata": {},
     "output_type": "execute_result"
    }
   ],
   "source": [
    "test.describe()"
   ]
  },
  {
   "cell_type": "code",
   "execution_count": 8,
   "id": "524f4e37",
   "metadata": {},
   "outputs": [
    {
     "data": {
      "text/html": [
       "<div>\n",
       "<style scoped>\n",
       "    .dataframe tbody tr th:only-of-type {\n",
       "        vertical-align: middle;\n",
       "    }\n",
       "\n",
       "    .dataframe tbody tr th {\n",
       "        vertical-align: top;\n",
       "    }\n",
       "\n",
       "    .dataframe thead th {\n",
       "        text-align: right;\n",
       "    }\n",
       "</style>\n",
       "<table border=\"1\" class=\"dataframe\">\n",
       "  <thead>\n",
       "    <tr style=\"text-align: right;\">\n",
       "      <th></th>\n",
       "      <th>key</th>\n",
       "      <th>fare_amount</th>\n",
       "      <th>pickup_datetime</th>\n",
       "      <th>pickup_longitude</th>\n",
       "      <th>pickup_latitude</th>\n",
       "      <th>dropoff_longitude</th>\n",
       "      <th>dropoff_latitude</th>\n",
       "      <th>passenger_count</th>\n",
       "    </tr>\n",
       "  </thead>\n",
       "  <tbody>\n",
       "    <tr>\n",
       "      <th>0</th>\n",
       "      <td>2014-01-25 23:30:00.000000294</td>\n",
       "      <td>57.33</td>\n",
       "      <td>2014-01-25 23:30:00 UTC</td>\n",
       "      <td>-73.777</td>\n",
       "      <td>40.645</td>\n",
       "      <td>-73.984</td>\n",
       "      <td>40.757</td>\n",
       "      <td>1</td>\n",
       "    </tr>\n",
       "    <tr>\n",
       "      <th>1</th>\n",
       "      <td>2012-01-15 18:48:00.00000024</td>\n",
       "      <td>4.50</td>\n",
       "      <td>2012-01-15 18:48:00 UTC</td>\n",
       "      <td>-74.002</td>\n",
       "      <td>40.730</td>\n",
       "      <td>-73.992</td>\n",
       "      <td>40.725</td>\n",
       "      <td>2</td>\n",
       "    </tr>\n",
       "    <tr>\n",
       "      <th>2</th>\n",
       "      <td>2013-12-17 15:08:00.0000008</td>\n",
       "      <td>7.00</td>\n",
       "      <td>2013-12-17 15:08:00 UTC</td>\n",
       "      <td>-73.995</td>\n",
       "      <td>40.726</td>\n",
       "      <td>-74.011</td>\n",
       "      <td>40.729</td>\n",
       "      <td>1</td>\n",
       "    </tr>\n",
       "    <tr>\n",
       "      <th>3</th>\n",
       "      <td>2009-06-26 05:59:30.0000002</td>\n",
       "      <td>10.10</td>\n",
       "      <td>2009-06-26 05:59:30 UTC</td>\n",
       "      <td>-73.978</td>\n",
       "      <td>40.746</td>\n",
       "      <td>-74.010</td>\n",
       "      <td>40.721</td>\n",
       "      <td>1</td>\n",
       "    </tr>\n",
       "    <tr>\n",
       "      <th>4</th>\n",
       "      <td>2012-07-28 02:36:59.0000003</td>\n",
       "      <td>8.90</td>\n",
       "      <td>2012-07-28 02:36:59 UTC</td>\n",
       "      <td>-74.004</td>\n",
       "      <td>40.720</td>\n",
       "      <td>-74.015</td>\n",
       "      <td>40.709</td>\n",
       "      <td>1</td>\n",
       "    </tr>\n",
       "  </tbody>\n",
       "</table>\n",
       "</div>"
      ],
      "text/plain": [
       "                             key  fare_amount          pickup_datetime  \\\n",
       "0  2014-01-25 23:30:00.000000294        57.33  2014-01-25 23:30:00 UTC   \n",
       "1   2012-01-15 18:48:00.00000024         4.50  2012-01-15 18:48:00 UTC   \n",
       "2    2013-12-17 15:08:00.0000008         7.00  2013-12-17 15:08:00 UTC   \n",
       "3    2009-06-26 05:59:30.0000002        10.10  2009-06-26 05:59:30 UTC   \n",
       "4    2012-07-28 02:36:59.0000003         8.90  2012-07-28 02:36:59 UTC   \n",
       "\n",
       "   pickup_longitude  pickup_latitude  dropoff_longitude  dropoff_latitude  \\\n",
       "0           -73.777           40.645            -73.984            40.757   \n",
       "1           -74.002           40.730            -73.992            40.725   \n",
       "2           -73.995           40.726            -74.011            40.729   \n",
       "3           -73.978           40.746            -74.010            40.721   \n",
       "4           -74.004           40.720            -74.015            40.709   \n",
       "\n",
       "   passenger_count  \n",
       "0                1  \n",
       "1                2  \n",
       "2                1  \n",
       "3                1  \n",
       "4                1  "
      ]
     },
     "execution_count": 8,
     "metadata": {},
     "output_type": "execute_result"
    }
   ],
   "source": [
    "train.head()"
   ]
  },
  {
   "cell_type": "code",
   "execution_count": 9,
   "id": "6945285f",
   "metadata": {},
   "outputs": [
    {
     "data": {
      "text/html": [
       "<div>\n",
       "<style scoped>\n",
       "    .dataframe tbody tr th:only-of-type {\n",
       "        vertical-align: middle;\n",
       "    }\n",
       "\n",
       "    .dataframe tbody tr th {\n",
       "        vertical-align: top;\n",
       "    }\n",
       "\n",
       "    .dataframe thead th {\n",
       "        text-align: right;\n",
       "    }\n",
       "</style>\n",
       "<table border=\"1\" class=\"dataframe\">\n",
       "  <thead>\n",
       "    <tr style=\"text-align: right;\">\n",
       "      <th></th>\n",
       "      <th>key</th>\n",
       "      <th>pickup_datetime</th>\n",
       "      <th>pickup_longitude</th>\n",
       "      <th>pickup_latitude</th>\n",
       "      <th>dropoff_longitude</th>\n",
       "      <th>dropoff_latitude</th>\n",
       "      <th>passenger_count</th>\n",
       "    </tr>\n",
       "  </thead>\n",
       "  <tbody>\n",
       "    <tr>\n",
       "      <th>0</th>\n",
       "      <td>2015-01-27 13:08:24.0000002</td>\n",
       "      <td>2015-01-27 13:08:24 UTC</td>\n",
       "      <td>-73.973320</td>\n",
       "      <td>40.763805</td>\n",
       "      <td>-73.981430</td>\n",
       "      <td>40.743835</td>\n",
       "      <td>1</td>\n",
       "    </tr>\n",
       "    <tr>\n",
       "      <th>1</th>\n",
       "      <td>2015-01-27 13:08:24.0000003</td>\n",
       "      <td>2015-01-27 13:08:24 UTC</td>\n",
       "      <td>-73.986862</td>\n",
       "      <td>40.719383</td>\n",
       "      <td>-73.998886</td>\n",
       "      <td>40.739201</td>\n",
       "      <td>1</td>\n",
       "    </tr>\n",
       "    <tr>\n",
       "      <th>2</th>\n",
       "      <td>2011-10-08 11:53:44.0000002</td>\n",
       "      <td>2011-10-08 11:53:44 UTC</td>\n",
       "      <td>-73.982524</td>\n",
       "      <td>40.751260</td>\n",
       "      <td>-73.979654</td>\n",
       "      <td>40.746139</td>\n",
       "      <td>1</td>\n",
       "    </tr>\n",
       "    <tr>\n",
       "      <th>3</th>\n",
       "      <td>2012-12-01 21:12:12.0000002</td>\n",
       "      <td>2012-12-01 21:12:12 UTC</td>\n",
       "      <td>-73.981160</td>\n",
       "      <td>40.767807</td>\n",
       "      <td>-73.990448</td>\n",
       "      <td>40.751635</td>\n",
       "      <td>1</td>\n",
       "    </tr>\n",
       "    <tr>\n",
       "      <th>4</th>\n",
       "      <td>2012-12-01 21:12:12.0000003</td>\n",
       "      <td>2012-12-01 21:12:12 UTC</td>\n",
       "      <td>-73.966046</td>\n",
       "      <td>40.789775</td>\n",
       "      <td>-73.988565</td>\n",
       "      <td>40.744427</td>\n",
       "      <td>1</td>\n",
       "    </tr>\n",
       "  </tbody>\n",
       "</table>\n",
       "</div>"
      ],
      "text/plain": [
       "                           key          pickup_datetime  pickup_longitude  \\\n",
       "0  2015-01-27 13:08:24.0000002  2015-01-27 13:08:24 UTC        -73.973320   \n",
       "1  2015-01-27 13:08:24.0000003  2015-01-27 13:08:24 UTC        -73.986862   \n",
       "2  2011-10-08 11:53:44.0000002  2011-10-08 11:53:44 UTC        -73.982524   \n",
       "3  2012-12-01 21:12:12.0000002  2012-12-01 21:12:12 UTC        -73.981160   \n",
       "4  2012-12-01 21:12:12.0000003  2012-12-01 21:12:12 UTC        -73.966046   \n",
       "\n",
       "   pickup_latitude  dropoff_longitude  dropoff_latitude  passenger_count  \n",
       "0        40.763805         -73.981430         40.743835                1  \n",
       "1        40.719383         -73.998886         40.739201                1  \n",
       "2        40.751260         -73.979654         40.746139                1  \n",
       "3        40.767807         -73.990448         40.751635                1  \n",
       "4        40.789775         -73.988565         40.744427                1  "
      ]
     },
     "execution_count": 9,
     "metadata": {},
     "output_type": "execute_result"
    }
   ],
   "source": [
    "test.head()"
   ]
  },
  {
   "cell_type": "code",
   "execution_count": 10,
   "id": "fcf94313",
   "metadata": {},
   "outputs": [
    {
     "name": "stdout",
     "output_type": "stream",
     "text": [
      "(10000000, 8)\n",
      "Before Drop:\n",
      " key                  0\n",
      "fare_amount          0\n",
      "pickup_datetime      0\n",
      "pickup_longitude     0\n",
      "pickup_latitude      0\n",
      "dropoff_longitude    0\n",
      "dropoff_latitude     0\n",
      "passenger_count      0\n",
      "dtype: int64\n",
      "\n"
     ]
    }
   ],
   "source": [
    "print(train.shape)\n",
    "print('Before Drop:\\n',train.isna().sum(), end='\\n\\n')"
   ]
  },
  {
   "cell_type": "code",
   "execution_count": 11,
   "id": "11af1dfb",
   "metadata": {},
   "outputs": [
    {
     "name": "stdout",
     "output_type": "stream",
     "text": [
      "After Drop:\n",
      " key                  0\n",
      "fare_amount          0\n",
      "pickup_datetime      0\n",
      "pickup_longitude     0\n",
      "pickup_latitude      0\n",
      "dropoff_longitude    0\n",
      "dropoff_latitude     0\n",
      "passenger_count      0\n",
      "dtype: int64\n",
      "(10000000, 8)\n"
     ]
    }
   ],
   "source": [
    "train.dropna(inplace=True)\n",
    "print('After Drop:\\n',train.isna().sum())\n",
    "print(train.shape)"
   ]
  },
  {
   "cell_type": "code",
   "execution_count": 12,
   "id": "3389238f",
   "metadata": {},
   "outputs": [
    {
     "name": "stdout",
     "output_type": "stream",
     "text": [
      "(9914, 7)\n",
      "Before Drop:\n",
      " key                  0\n",
      "pickup_datetime      0\n",
      "pickup_longitude     0\n",
      "pickup_latitude      0\n",
      "dropoff_longitude    0\n",
      "dropoff_latitude     0\n",
      "passenger_count      0\n",
      "dtype: int64\n",
      "\n"
     ]
    }
   ],
   "source": [
    "print(test.shape)\n",
    "print('Before Drop:\\n',test.isna().sum(), end='\\n\\n')"
   ]
  },
  {
   "cell_type": "code",
   "execution_count": 13,
   "id": "a42729ee",
   "metadata": {},
   "outputs": [
    {
     "data": {
      "text/plain": [
       "((10000000, 8), (9914, 7))"
      ]
     },
     "execution_count": 13,
     "metadata": {},
     "output_type": "execute_result"
    }
   ],
   "source": [
    "train.shape, test.shape"
   ]
  },
  {
   "cell_type": "markdown",
   "id": "ff347db8",
   "metadata": {},
   "source": [
    "### **Finding and removing the data points with pickup/dropoff lat/long to be equal to zero.**"
   ]
  },
  {
   "cell_type": "code",
   "execution_count": 14,
   "id": "e673f639",
   "metadata": {},
   "outputs": [
    {
     "data": {
      "text/plain": [
       "(0, 8)"
      ]
     },
     "execution_count": 14,
     "metadata": {},
     "output_type": "execute_result"
    }
   ],
   "source": [
    "train[(train.pickup_latitude==0) | (train.pickup_longitude)==0 | (train.dropoff_latitude==0)|(train.dropoff_longitude==0)].shape"
   ]
  },
  {
   "cell_type": "code",
   "execution_count": 15,
   "id": "75976f91",
   "metadata": {},
   "outputs": [],
   "source": [
    "rows = train[(train.pickup_latitude==0) | (train.pickup_longitude)==0 | (train.dropoff_latitude==0)|(train.dropoff_longitude==0)]"
   ]
  },
  {
   "cell_type": "code",
   "execution_count": 16,
   "id": "6e0baf3f",
   "metadata": {},
   "outputs": [],
   "source": [
    "train.drop(rows.index, axis=0, inplace=True)"
   ]
  },
  {
   "cell_type": "code",
   "execution_count": 17,
   "id": "d2c2d0f8",
   "metadata": {},
   "outputs": [
    {
     "data": {
      "text/plain": [
       "(10000000, 8)"
      ]
     },
     "execution_count": 17,
     "metadata": {},
     "output_type": "execute_result"
    }
   ],
   "source": [
    "train.shape"
   ]
  },
  {
   "cell_type": "markdown",
   "id": "d1b6f39c",
   "metadata": {},
   "source": [
    "### **Rounding off the lat and long values for the model to find some patterns in the data.**"
   ]
  },
  {
   "cell_type": "code",
   "execution_count": 18,
   "id": "889ac145",
   "metadata": {},
   "outputs": [],
   "source": [
    "train.pickup_latitude = train.pickup_latitude.round(3)\n",
    "train.pickup_longitude = train.pickup_longitude.round(3)  \n",
    "train.dropoff_latitude = train.dropoff_latitude.round(3)  \n",
    "train.dropoff_longitude = train.dropoff_longitude.round(3)"
   ]
  },
  {
   "cell_type": "code",
   "execution_count": 19,
   "id": "d9403096",
   "metadata": {},
   "outputs": [],
   "source": [
    "test.pickup_latitude = test.pickup_latitude.round(3)\n",
    "test.pickup_longitude = test.pickup_longitude.round(3)  \n",
    "test.dropoff_latitude = test.dropoff_latitude.round(3)  \n",
    "test.dropoff_longitude = test.dropoff_longitude.round(3)"
   ]
  },
  {
   "cell_type": "code",
   "execution_count": 20,
   "id": "06666dad",
   "metadata": {},
   "outputs": [
    {
     "data": {
      "text/html": [
       "<div>\n",
       "<style scoped>\n",
       "    .dataframe tbody tr th:only-of-type {\n",
       "        vertical-align: middle;\n",
       "    }\n",
       "\n",
       "    .dataframe tbody tr th {\n",
       "        vertical-align: top;\n",
       "    }\n",
       "\n",
       "    .dataframe thead th {\n",
       "        text-align: right;\n",
       "    }\n",
       "</style>\n",
       "<table border=\"1\" class=\"dataframe\">\n",
       "  <thead>\n",
       "    <tr style=\"text-align: right;\">\n",
       "      <th></th>\n",
       "      <th>key</th>\n",
       "      <th>fare_amount</th>\n",
       "      <th>pickup_datetime</th>\n",
       "      <th>pickup_longitude</th>\n",
       "      <th>pickup_latitude</th>\n",
       "      <th>dropoff_longitude</th>\n",
       "      <th>dropoff_latitude</th>\n",
       "      <th>passenger_count</th>\n",
       "    </tr>\n",
       "  </thead>\n",
       "  <tbody>\n",
       "    <tr>\n",
       "      <th>0</th>\n",
       "      <td>2014-01-25 23:30:00.000000294</td>\n",
       "      <td>57.33</td>\n",
       "      <td>2014-01-25 23:30:00 UTC</td>\n",
       "      <td>-73.777</td>\n",
       "      <td>40.645</td>\n",
       "      <td>-73.984</td>\n",
       "      <td>40.757</td>\n",
       "      <td>1</td>\n",
       "    </tr>\n",
       "    <tr>\n",
       "      <th>1</th>\n",
       "      <td>2012-01-15 18:48:00.00000024</td>\n",
       "      <td>4.50</td>\n",
       "      <td>2012-01-15 18:48:00 UTC</td>\n",
       "      <td>-74.002</td>\n",
       "      <td>40.730</td>\n",
       "      <td>-73.992</td>\n",
       "      <td>40.725</td>\n",
       "      <td>2</td>\n",
       "    </tr>\n",
       "    <tr>\n",
       "      <th>2</th>\n",
       "      <td>2013-12-17 15:08:00.0000008</td>\n",
       "      <td>7.00</td>\n",
       "      <td>2013-12-17 15:08:00 UTC</td>\n",
       "      <td>-73.995</td>\n",
       "      <td>40.726</td>\n",
       "      <td>-74.011</td>\n",
       "      <td>40.729</td>\n",
       "      <td>1</td>\n",
       "    </tr>\n",
       "    <tr>\n",
       "      <th>3</th>\n",
       "      <td>2009-06-26 05:59:30.0000002</td>\n",
       "      <td>10.10</td>\n",
       "      <td>2009-06-26 05:59:30 UTC</td>\n",
       "      <td>-73.978</td>\n",
       "      <td>40.746</td>\n",
       "      <td>-74.010</td>\n",
       "      <td>40.721</td>\n",
       "      <td>1</td>\n",
       "    </tr>\n",
       "    <tr>\n",
       "      <th>4</th>\n",
       "      <td>2012-07-28 02:36:59.0000003</td>\n",
       "      <td>8.90</td>\n",
       "      <td>2012-07-28 02:36:59 UTC</td>\n",
       "      <td>-74.004</td>\n",
       "      <td>40.720</td>\n",
       "      <td>-74.015</td>\n",
       "      <td>40.709</td>\n",
       "      <td>1</td>\n",
       "    </tr>\n",
       "  </tbody>\n",
       "</table>\n",
       "</div>"
      ],
      "text/plain": [
       "                             key  fare_amount          pickup_datetime  \\\n",
       "0  2014-01-25 23:30:00.000000294        57.33  2014-01-25 23:30:00 UTC   \n",
       "1   2012-01-15 18:48:00.00000024         4.50  2012-01-15 18:48:00 UTC   \n",
       "2    2013-12-17 15:08:00.0000008         7.00  2013-12-17 15:08:00 UTC   \n",
       "3    2009-06-26 05:59:30.0000002        10.10  2009-06-26 05:59:30 UTC   \n",
       "4    2012-07-28 02:36:59.0000003         8.90  2012-07-28 02:36:59 UTC   \n",
       "\n",
       "   pickup_longitude  pickup_latitude  dropoff_longitude  dropoff_latitude  \\\n",
       "0           -73.777           40.645            -73.984            40.757   \n",
       "1           -74.002           40.730            -73.992            40.725   \n",
       "2           -73.995           40.726            -74.011            40.729   \n",
       "3           -73.978           40.746            -74.010            40.721   \n",
       "4           -74.004           40.720            -74.015            40.709   \n",
       "\n",
       "   passenger_count  \n",
       "0                1  \n",
       "1                2  \n",
       "2                1  \n",
       "3                1  \n",
       "4                1  "
      ]
     },
     "execution_count": 20,
     "metadata": {},
     "output_type": "execute_result"
    }
   ],
   "source": [
    "train.head()"
   ]
  },
  {
   "cell_type": "code",
   "execution_count": 21,
   "id": "a0860638",
   "metadata": {},
   "outputs": [
    {
     "data": {
      "text/html": [
       "<div>\n",
       "<style scoped>\n",
       "    .dataframe tbody tr th:only-of-type {\n",
       "        vertical-align: middle;\n",
       "    }\n",
       "\n",
       "    .dataframe tbody tr th {\n",
       "        vertical-align: top;\n",
       "    }\n",
       "\n",
       "    .dataframe thead th {\n",
       "        text-align: right;\n",
       "    }\n",
       "</style>\n",
       "<table border=\"1\" class=\"dataframe\">\n",
       "  <thead>\n",
       "    <tr style=\"text-align: right;\">\n",
       "      <th></th>\n",
       "      <th>key</th>\n",
       "      <th>pickup_datetime</th>\n",
       "      <th>pickup_longitude</th>\n",
       "      <th>pickup_latitude</th>\n",
       "      <th>dropoff_longitude</th>\n",
       "      <th>dropoff_latitude</th>\n",
       "      <th>passenger_count</th>\n",
       "    </tr>\n",
       "  </thead>\n",
       "  <tbody>\n",
       "    <tr>\n",
       "      <th>0</th>\n",
       "      <td>2015-01-27 13:08:24.0000002</td>\n",
       "      <td>2015-01-27 13:08:24 UTC</td>\n",
       "      <td>-73.973</td>\n",
       "      <td>40.764</td>\n",
       "      <td>-73.981</td>\n",
       "      <td>40.744</td>\n",
       "      <td>1</td>\n",
       "    </tr>\n",
       "    <tr>\n",
       "      <th>1</th>\n",
       "      <td>2015-01-27 13:08:24.0000003</td>\n",
       "      <td>2015-01-27 13:08:24 UTC</td>\n",
       "      <td>-73.987</td>\n",
       "      <td>40.719</td>\n",
       "      <td>-73.999</td>\n",
       "      <td>40.739</td>\n",
       "      <td>1</td>\n",
       "    </tr>\n",
       "    <tr>\n",
       "      <th>2</th>\n",
       "      <td>2011-10-08 11:53:44.0000002</td>\n",
       "      <td>2011-10-08 11:53:44 UTC</td>\n",
       "      <td>-73.983</td>\n",
       "      <td>40.751</td>\n",
       "      <td>-73.980</td>\n",
       "      <td>40.746</td>\n",
       "      <td>1</td>\n",
       "    </tr>\n",
       "    <tr>\n",
       "      <th>3</th>\n",
       "      <td>2012-12-01 21:12:12.0000002</td>\n",
       "      <td>2012-12-01 21:12:12 UTC</td>\n",
       "      <td>-73.981</td>\n",
       "      <td>40.768</td>\n",
       "      <td>-73.990</td>\n",
       "      <td>40.752</td>\n",
       "      <td>1</td>\n",
       "    </tr>\n",
       "    <tr>\n",
       "      <th>4</th>\n",
       "      <td>2012-12-01 21:12:12.0000003</td>\n",
       "      <td>2012-12-01 21:12:12 UTC</td>\n",
       "      <td>-73.966</td>\n",
       "      <td>40.790</td>\n",
       "      <td>-73.989</td>\n",
       "      <td>40.744</td>\n",
       "      <td>1</td>\n",
       "    </tr>\n",
       "  </tbody>\n",
       "</table>\n",
       "</div>"
      ],
      "text/plain": [
       "                           key          pickup_datetime  pickup_longitude  \\\n",
       "0  2015-01-27 13:08:24.0000002  2015-01-27 13:08:24 UTC           -73.973   \n",
       "1  2015-01-27 13:08:24.0000003  2015-01-27 13:08:24 UTC           -73.987   \n",
       "2  2011-10-08 11:53:44.0000002  2011-10-08 11:53:44 UTC           -73.983   \n",
       "3  2012-12-01 21:12:12.0000002  2012-12-01 21:12:12 UTC           -73.981   \n",
       "4  2012-12-01 21:12:12.0000003  2012-12-01 21:12:12 UTC           -73.966   \n",
       "\n",
       "   pickup_latitude  dropoff_longitude  dropoff_latitude  passenger_count  \n",
       "0           40.764            -73.981            40.744                1  \n",
       "1           40.719            -73.999            40.739                1  \n",
       "2           40.751            -73.980            40.746                1  \n",
       "3           40.768            -73.990            40.752                1  \n",
       "4           40.790            -73.989            40.744                1  "
      ]
     },
     "execution_count": 21,
     "metadata": {},
     "output_type": "execute_result"
    }
   ],
   "source": [
    "test.head()"
   ]
  },
  {
   "cell_type": "markdown",
   "id": "de614ca7",
   "metadata": {},
   "source": [
    "### **Finding out the proper bounds for lat and long values for removing outliers.**\n",
    "<span style='color:blue'>New York's latitude and longitude: 40.7128° N, 74.0060° W\n",
    "And so the below mentioned ranges clearly show the presence of outliers as lat and long values cannot go this large or vary to this extent for a city.</span>"
   ]
  },
  {
   "cell_type": "code",
   "execution_count": 24,
   "id": "a8fca92e",
   "metadata": {},
   "outputs": [
    {
     "data": {
      "text/plain": [
       "(40.569, 41.706, -74.263, -72.993)"
      ]
     },
     "execution_count": 24,
     "metadata": {},
     "output_type": "execute_result"
    }
   ],
   "source": [
    "train.pickup_latitude.min(), train.pickup_latitude.max(), train.pickup_longitude.min(), train.pickup_longitude.max()"
   ]
  },
  {
   "cell_type": "code",
   "execution_count": 25,
   "id": "e5180a13",
   "metadata": {},
   "outputs": [
    {
     "data": {
      "text/plain": [
       "(40.573, 41.71, -74.252, -72.987)"
      ]
     },
     "execution_count": 25,
     "metadata": {},
     "output_type": "execute_result"
    }
   ],
   "source": [
    "test.pickup_latitude.min(), test.pickup_latitude.max(), test.pickup_longitude.min(), test.pickup_longitude.max()"
   ]
  },
  {
   "cell_type": "code",
   "execution_count": 26,
   "id": "96bb83d2",
   "metadata": {},
   "outputs": [
    {
     "data": {
      "text/plain": [
       "(40.569, 41.706, -74.263, -72.988)"
      ]
     },
     "execution_count": 26,
     "metadata": {},
     "output_type": "execute_result"
    }
   ],
   "source": [
    "train.dropoff_latitude.min(), train.dropoff_latitude.max(), train.dropoff_longitude.min(), train.dropoff_longitude.max()"
   ]
  },
  {
   "cell_type": "code",
   "execution_count": 27,
   "id": "f2aee9ae",
   "metadata": {},
   "outputs": [
    {
     "data": {
      "text/plain": [
       "(40.569, 41.697, -74.263, -72.991)"
      ]
     },
     "execution_count": 27,
     "metadata": {},
     "output_type": "execute_result"
    }
   ],
   "source": [
    "test.dropoff_latitude.min(), test.dropoff_latitude.max(), test.dropoff_longitude.min(), test.dropoff_longitude.max()"
   ]
  },
  {
   "cell_type": "markdown",
   "id": "263a2f62",
   "metadata": {},
   "source": [
    "### **Fixing the upper and lower bounds to remove outliers.**"
   ]
  },
  {
   "cell_type": "code",
   "execution_count": 28,
   "id": "861d126c",
   "metadata": {},
   "outputs": [],
   "source": [
    "lat_min, lat_max, long_min, long_max = 40.569, 41.71, -74.263, -72.987"
   ]
  },
  {
   "cell_type": "markdown",
   "id": "73d7b027",
   "metadata": {},
   "source": [
    "#### **In the saved csv file of subset of dataset, this preprocessing of rounding off and removing outside lower and upper bounds had been done already and hence below code is commented out.**"
   ]
  },
  {
   "cell_type": "code",
   "execution_count": 44,
   "id": "a9ff36a4",
   "metadata": {},
   "outputs": [],
   "source": [
    "# train.pickup_latitude = train.pickup_latitude[train.pickup_latitude.between(left=lat_min, right=lat_max)]\n",
    "# train.dropoff_latitude = train.dropoff_latitude[train.dropoff_latitude.between(left=lat_min, right=lat_max)]\n",
    "# train.pickup_longitude = train.pickup_longitude[train.pickup_longitude.between(left=long_min, right=long_max)]\n",
    "# train.dropoff_longitude = train.dropoff_longitude[train.dropoff_longitude.between(left=long_min, right=long_max)]"
   ]
  },
  {
   "cell_type": "code",
   "execution_count": 29,
   "id": "fc7a8ae0",
   "metadata": {},
   "outputs": [
    {
     "data": {
      "text/plain": [
       "(40.569, 41.706, -74.263, -72.993)"
      ]
     },
     "execution_count": 29,
     "metadata": {},
     "output_type": "execute_result"
    }
   ],
   "source": [
    "train.pickup_latitude.min(), train.pickup_latitude.max(), train.pickup_longitude.min(), train.pickup_longitude.max()"
   ]
  },
  {
   "cell_type": "code",
   "execution_count": 30,
   "id": "f5b92a94",
   "metadata": {},
   "outputs": [
    {
     "data": {
      "text/plain": [
       "(40.569, 41.706, -74.263, -72.988)"
      ]
     },
     "execution_count": 30,
     "metadata": {},
     "output_type": "execute_result"
    }
   ],
   "source": [
    "train.dropoff_latitude.min(), train.dropoff_latitude.max(), train.dropoff_longitude.min(), train.dropoff_longitude.max()"
   ]
  },
  {
   "cell_type": "code",
   "execution_count": 31,
   "id": "40cff6ac",
   "metadata": {},
   "outputs": [
    {
     "data": {
      "text/html": [
       "<div>\n",
       "<style scoped>\n",
       "    .dataframe tbody tr th:only-of-type {\n",
       "        vertical-align: middle;\n",
       "    }\n",
       "\n",
       "    .dataframe tbody tr th {\n",
       "        vertical-align: top;\n",
       "    }\n",
       "\n",
       "    .dataframe thead th {\n",
       "        text-align: right;\n",
       "    }\n",
       "</style>\n",
       "<table border=\"1\" class=\"dataframe\">\n",
       "  <thead>\n",
       "    <tr style=\"text-align: right;\">\n",
       "      <th></th>\n",
       "      <th>key</th>\n",
       "      <th>fare_amount</th>\n",
       "      <th>pickup_datetime</th>\n",
       "      <th>pickup_longitude</th>\n",
       "      <th>pickup_latitude</th>\n",
       "      <th>dropoff_longitude</th>\n",
       "      <th>dropoff_latitude</th>\n",
       "      <th>passenger_count</th>\n",
       "    </tr>\n",
       "  </thead>\n",
       "  <tbody>\n",
       "    <tr>\n",
       "      <th>0</th>\n",
       "      <td>2014-01-25 23:30:00.000000294</td>\n",
       "      <td>57.33</td>\n",
       "      <td>2014-01-25 23:30:00 UTC</td>\n",
       "      <td>-73.777</td>\n",
       "      <td>40.645</td>\n",
       "      <td>-73.984</td>\n",
       "      <td>40.757</td>\n",
       "      <td>1</td>\n",
       "    </tr>\n",
       "    <tr>\n",
       "      <th>1</th>\n",
       "      <td>2012-01-15 18:48:00.00000024</td>\n",
       "      <td>4.50</td>\n",
       "      <td>2012-01-15 18:48:00 UTC</td>\n",
       "      <td>-74.002</td>\n",
       "      <td>40.730</td>\n",
       "      <td>-73.992</td>\n",
       "      <td>40.725</td>\n",
       "      <td>2</td>\n",
       "    </tr>\n",
       "    <tr>\n",
       "      <th>2</th>\n",
       "      <td>2013-12-17 15:08:00.0000008</td>\n",
       "      <td>7.00</td>\n",
       "      <td>2013-12-17 15:08:00 UTC</td>\n",
       "      <td>-73.995</td>\n",
       "      <td>40.726</td>\n",
       "      <td>-74.011</td>\n",
       "      <td>40.729</td>\n",
       "      <td>1</td>\n",
       "    </tr>\n",
       "    <tr>\n",
       "      <th>3</th>\n",
       "      <td>2009-06-26 05:59:30.0000002</td>\n",
       "      <td>10.10</td>\n",
       "      <td>2009-06-26 05:59:30 UTC</td>\n",
       "      <td>-73.978</td>\n",
       "      <td>40.746</td>\n",
       "      <td>-74.010</td>\n",
       "      <td>40.721</td>\n",
       "      <td>1</td>\n",
       "    </tr>\n",
       "    <tr>\n",
       "      <th>4</th>\n",
       "      <td>2012-07-28 02:36:59.0000003</td>\n",
       "      <td>8.90</td>\n",
       "      <td>2012-07-28 02:36:59 UTC</td>\n",
       "      <td>-74.004</td>\n",
       "      <td>40.720</td>\n",
       "      <td>-74.015</td>\n",
       "      <td>40.709</td>\n",
       "      <td>1</td>\n",
       "    </tr>\n",
       "  </tbody>\n",
       "</table>\n",
       "</div>"
      ],
      "text/plain": [
       "                             key  fare_amount          pickup_datetime  \\\n",
       "0  2014-01-25 23:30:00.000000294        57.33  2014-01-25 23:30:00 UTC   \n",
       "1   2012-01-15 18:48:00.00000024         4.50  2012-01-15 18:48:00 UTC   \n",
       "2    2013-12-17 15:08:00.0000008         7.00  2013-12-17 15:08:00 UTC   \n",
       "3    2009-06-26 05:59:30.0000002        10.10  2009-06-26 05:59:30 UTC   \n",
       "4    2012-07-28 02:36:59.0000003         8.90  2012-07-28 02:36:59 UTC   \n",
       "\n",
       "   pickup_longitude  pickup_latitude  dropoff_longitude  dropoff_latitude  \\\n",
       "0           -73.777           40.645            -73.984            40.757   \n",
       "1           -74.002           40.730            -73.992            40.725   \n",
       "2           -73.995           40.726            -74.011            40.729   \n",
       "3           -73.978           40.746            -74.010            40.721   \n",
       "4           -74.004           40.720            -74.015            40.709   \n",
       "\n",
       "   passenger_count  \n",
       "0                1  \n",
       "1                2  \n",
       "2                1  \n",
       "3                1  \n",
       "4                1  "
      ]
     },
     "execution_count": 31,
     "metadata": {},
     "output_type": "execute_result"
    }
   ],
   "source": [
    "train.head()"
   ]
  },
  {
   "cell_type": "code",
   "execution_count": 32,
   "id": "14979972",
   "metadata": {},
   "outputs": [
    {
     "data": {
      "text/plain": [
       "key                  0\n",
       "fare_amount          0\n",
       "pickup_datetime      0\n",
       "pickup_longitude     0\n",
       "pickup_latitude      0\n",
       "dropoff_longitude    0\n",
       "dropoff_latitude     0\n",
       "passenger_count      0\n",
       "dtype: int64"
      ]
     },
     "execution_count": 32,
     "metadata": {},
     "output_type": "execute_result"
    }
   ],
   "source": [
    "train.shape\n",
    "train.isna().sum()"
   ]
  },
  {
   "cell_type": "code",
   "execution_count": 53,
   "id": "baf8b8dd",
   "metadata": {},
   "outputs": [],
   "source": [
    "# Uncomment when using the original data or sample extracted from it\n",
    "# train.dropna(inplace=True)\n",
    "# train.isna().sum()"
   ]
  },
  {
   "cell_type": "code",
   "execution_count": 33,
   "id": "73b8fbab",
   "metadata": {},
   "outputs": [],
   "source": [
    "# train.head()"
   ]
  },
  {
   "cell_type": "code",
   "execution_count": 34,
   "id": "a2ad96d9",
   "metadata": {},
   "outputs": [],
   "source": [
    "# test.head()"
   ]
  },
  {
   "cell_type": "code",
   "execution_count": 35,
   "id": "5391f783",
   "metadata": {},
   "outputs": [],
   "source": [
    "new_train = train"
   ]
  },
  {
   "cell_type": "markdown",
   "id": "533a3a19",
   "metadata": {},
   "source": [
    "#### **General Facts about data**\n",
    "1. As key contains unique values, so it does not hold any value in training the model.\n",
    "2. pickup_datetime contains condensed information about year, months, days and hour of the day and hence it can be segregated to create new features to enhance the richness of the data.\n",
    "3. Distance is not given but using the longitudes and latitude values, we can find out the distance using Haversine Formula.\n",
    "4. passenger_count also affects the taxi fares and hence is an important feature and can be used directly.\n",
    "5. Feature Engineering is required to collect more features:</br>\n",
    "    5a. For calculating distance,</br>\n",
    "    5b. For creating features for year, month, week, weekday, day, and hour.\n",
    "    \n",
    "### **Finding the Haversine distance using Haversine formula.**\n",
    "This distance is chosen as this distance is more relevant to find distance between two points when given in terms of latitude and longitude values. Values are rounded off with a notion to help the model find patterns in the data as more decimel places may result in different values even for a minute change."
   ]
  },
  {
   "cell_type": "code",
   "execution_count": 36,
   "id": "8f68a1ef",
   "metadata": {},
   "outputs": [],
   "source": [
    "def get_distance(record):\n",
    "    src_longtitude, src_latitude, dest_longtitude, dest_latitude = tuple(record.values.tolist()) \n",
    "    src_longtitude, src_latitude, dest_longtitude, dest_latitude = map(radians, [src_longtitude, src_latitude, dest_longtitude, dest_latitude])\n",
    "    longtitude_diff = dest_longtitude - src_longtitude \n",
    "    latitude_diff = dest_latitude - src_latitude\n",
    "    # Haversine Formula\n",
    "    a = sin(latitude_diff/2)**2 + cos(src_latitude) * cos(dest_latitude) * sin(longtitude_diff/2)**2\n",
    "    c = 2*arcsin(sqrt(a))\n",
    "    # Radius of Earth: 6371 KM\n",
    "    distance = 6371*c\n",
    "    return distance\n",
    "\n",
    "new_train['distance'] = new_train.iloc[:, 3:7].apply(get_distance, axis=1).round(3)\n",
    "test['distance'] = test.iloc[:, 2:6].apply(get_distance, axis=1).round(3)"
   ]
  },
  {
   "cell_type": "code",
   "execution_count": 37,
   "id": "b30f7781",
   "metadata": {},
   "outputs": [
    {
     "data": {
      "text/html": [
       "<div>\n",
       "<style scoped>\n",
       "    .dataframe tbody tr th:only-of-type {\n",
       "        vertical-align: middle;\n",
       "    }\n",
       "\n",
       "    .dataframe tbody tr th {\n",
       "        vertical-align: top;\n",
       "    }\n",
       "\n",
       "    .dataframe thead th {\n",
       "        text-align: right;\n",
       "    }\n",
       "</style>\n",
       "<table border=\"1\" class=\"dataframe\">\n",
       "  <thead>\n",
       "    <tr style=\"text-align: right;\">\n",
       "      <th></th>\n",
       "      <th>key</th>\n",
       "      <th>fare_amount</th>\n",
       "      <th>pickup_datetime</th>\n",
       "      <th>pickup_longitude</th>\n",
       "      <th>pickup_latitude</th>\n",
       "      <th>dropoff_longitude</th>\n",
       "      <th>dropoff_latitude</th>\n",
       "      <th>passenger_count</th>\n",
       "      <th>distance</th>\n",
       "    </tr>\n",
       "  </thead>\n",
       "  <tbody>\n",
       "    <tr>\n",
       "      <th>0</th>\n",
       "      <td>2014-01-25 23:30:00.000000294</td>\n",
       "      <td>57.33</td>\n",
       "      <td>2014-01-25 23:30:00 UTC</td>\n",
       "      <td>-73.777</td>\n",
       "      <td>40.645</td>\n",
       "      <td>-73.984</td>\n",
       "      <td>40.757</td>\n",
       "      <td>1</td>\n",
       "      <td>21.438</td>\n",
       "    </tr>\n",
       "    <tr>\n",
       "      <th>1</th>\n",
       "      <td>2012-01-15 18:48:00.00000024</td>\n",
       "      <td>4.50</td>\n",
       "      <td>2012-01-15 18:48:00 UTC</td>\n",
       "      <td>-74.002</td>\n",
       "      <td>40.730</td>\n",
       "      <td>-73.992</td>\n",
       "      <td>40.725</td>\n",
       "      <td>2</td>\n",
       "      <td>1.010</td>\n",
       "    </tr>\n",
       "    <tr>\n",
       "      <th>2</th>\n",
       "      <td>2013-12-17 15:08:00.0000008</td>\n",
       "      <td>7.00</td>\n",
       "      <td>2013-12-17 15:08:00 UTC</td>\n",
       "      <td>-73.995</td>\n",
       "      <td>40.726</td>\n",
       "      <td>-74.011</td>\n",
       "      <td>40.729</td>\n",
       "      <td>1</td>\n",
       "      <td>1.389</td>\n",
       "    </tr>\n",
       "    <tr>\n",
       "      <th>3</th>\n",
       "      <td>2009-06-26 05:59:30.0000002</td>\n",
       "      <td>10.10</td>\n",
       "      <td>2009-06-26 05:59:30 UTC</td>\n",
       "      <td>-73.978</td>\n",
       "      <td>40.746</td>\n",
       "      <td>-74.010</td>\n",
       "      <td>40.721</td>\n",
       "      <td>1</td>\n",
       "      <td>3.873</td>\n",
       "    </tr>\n",
       "    <tr>\n",
       "      <th>4</th>\n",
       "      <td>2012-07-28 02:36:59.0000003</td>\n",
       "      <td>8.90</td>\n",
       "      <td>2012-07-28 02:36:59 UTC</td>\n",
       "      <td>-74.004</td>\n",
       "      <td>40.720</td>\n",
       "      <td>-74.015</td>\n",
       "      <td>40.709</td>\n",
       "      <td>1</td>\n",
       "      <td>1.535</td>\n",
       "    </tr>\n",
       "  </tbody>\n",
       "</table>\n",
       "</div>"
      ],
      "text/plain": [
       "                             key  fare_amount          pickup_datetime  \\\n",
       "0  2014-01-25 23:30:00.000000294        57.33  2014-01-25 23:30:00 UTC   \n",
       "1   2012-01-15 18:48:00.00000024         4.50  2012-01-15 18:48:00 UTC   \n",
       "2    2013-12-17 15:08:00.0000008         7.00  2013-12-17 15:08:00 UTC   \n",
       "3    2009-06-26 05:59:30.0000002        10.10  2009-06-26 05:59:30 UTC   \n",
       "4    2012-07-28 02:36:59.0000003         8.90  2012-07-28 02:36:59 UTC   \n",
       "\n",
       "   pickup_longitude  pickup_latitude  dropoff_longitude  dropoff_latitude  \\\n",
       "0           -73.777           40.645            -73.984            40.757   \n",
       "1           -74.002           40.730            -73.992            40.725   \n",
       "2           -73.995           40.726            -74.011            40.729   \n",
       "3           -73.978           40.746            -74.010            40.721   \n",
       "4           -74.004           40.720            -74.015            40.709   \n",
       "\n",
       "   passenger_count  distance  \n",
       "0                1    21.438  \n",
       "1                2     1.010  \n",
       "2                1     1.389  \n",
       "3                1     3.873  \n",
       "4                1     1.535  "
      ]
     },
     "execution_count": 37,
     "metadata": {},
     "output_type": "execute_result"
    }
   ],
   "source": [
    "new_train.head()"
   ]
  },
  {
   "cell_type": "code",
   "execution_count": 38,
   "id": "b32f6555",
   "metadata": {},
   "outputs": [
    {
     "data": {
      "text/html": [
       "<div>\n",
       "<style scoped>\n",
       "    .dataframe tbody tr th:only-of-type {\n",
       "        vertical-align: middle;\n",
       "    }\n",
       "\n",
       "    .dataframe tbody tr th {\n",
       "        vertical-align: top;\n",
       "    }\n",
       "\n",
       "    .dataframe thead th {\n",
       "        text-align: right;\n",
       "    }\n",
       "</style>\n",
       "<table border=\"1\" class=\"dataframe\">\n",
       "  <thead>\n",
       "    <tr style=\"text-align: right;\">\n",
       "      <th></th>\n",
       "      <th>key</th>\n",
       "      <th>pickup_datetime</th>\n",
       "      <th>pickup_longitude</th>\n",
       "      <th>pickup_latitude</th>\n",
       "      <th>dropoff_longitude</th>\n",
       "      <th>dropoff_latitude</th>\n",
       "      <th>passenger_count</th>\n",
       "      <th>distance</th>\n",
       "    </tr>\n",
       "  </thead>\n",
       "  <tbody>\n",
       "    <tr>\n",
       "      <th>0</th>\n",
       "      <td>2015-01-27 13:08:24.0000002</td>\n",
       "      <td>2015-01-27 13:08:24 UTC</td>\n",
       "      <td>-73.973</td>\n",
       "      <td>40.764</td>\n",
       "      <td>-73.981</td>\n",
       "      <td>40.744</td>\n",
       "      <td>1</td>\n",
       "      <td>2.324</td>\n",
       "    </tr>\n",
       "    <tr>\n",
       "      <th>1</th>\n",
       "      <td>2015-01-27 13:08:24.0000003</td>\n",
       "      <td>2015-01-27 13:08:24 UTC</td>\n",
       "      <td>-73.987</td>\n",
       "      <td>40.719</td>\n",
       "      <td>-73.999</td>\n",
       "      <td>40.739</td>\n",
       "      <td>1</td>\n",
       "      <td>2.443</td>\n",
       "    </tr>\n",
       "    <tr>\n",
       "      <th>2</th>\n",
       "      <td>2011-10-08 11:53:44.0000002</td>\n",
       "      <td>2011-10-08 11:53:44 UTC</td>\n",
       "      <td>-73.983</td>\n",
       "      <td>40.751</td>\n",
       "      <td>-73.980</td>\n",
       "      <td>40.746</td>\n",
       "      <td>1</td>\n",
       "      <td>0.611</td>\n",
       "    </tr>\n",
       "    <tr>\n",
       "      <th>3</th>\n",
       "      <td>2012-12-01 21:12:12.0000002</td>\n",
       "      <td>2012-12-01 21:12:12 UTC</td>\n",
       "      <td>-73.981</td>\n",
       "      <td>40.768</td>\n",
       "      <td>-73.990</td>\n",
       "      <td>40.752</td>\n",
       "      <td>1</td>\n",
       "      <td>1.934</td>\n",
       "    </tr>\n",
       "    <tr>\n",
       "      <th>4</th>\n",
       "      <td>2012-12-01 21:12:12.0000003</td>\n",
       "      <td>2012-12-01 21:12:12 UTC</td>\n",
       "      <td>-73.966</td>\n",
       "      <td>40.790</td>\n",
       "      <td>-73.989</td>\n",
       "      <td>40.744</td>\n",
       "      <td>1</td>\n",
       "      <td>5.469</td>\n",
       "    </tr>\n",
       "  </tbody>\n",
       "</table>\n",
       "</div>"
      ],
      "text/plain": [
       "                           key          pickup_datetime  pickup_longitude  \\\n",
       "0  2015-01-27 13:08:24.0000002  2015-01-27 13:08:24 UTC           -73.973   \n",
       "1  2015-01-27 13:08:24.0000003  2015-01-27 13:08:24 UTC           -73.987   \n",
       "2  2011-10-08 11:53:44.0000002  2011-10-08 11:53:44 UTC           -73.983   \n",
       "3  2012-12-01 21:12:12.0000002  2012-12-01 21:12:12 UTC           -73.981   \n",
       "4  2012-12-01 21:12:12.0000003  2012-12-01 21:12:12 UTC           -73.966   \n",
       "\n",
       "   pickup_latitude  dropoff_longitude  dropoff_latitude  passenger_count  \\\n",
       "0           40.764            -73.981            40.744                1   \n",
       "1           40.719            -73.999            40.739                1   \n",
       "2           40.751            -73.980            40.746                1   \n",
       "3           40.768            -73.990            40.752                1   \n",
       "4           40.790            -73.989            40.744                1   \n",
       "\n",
       "   distance  \n",
       "0     2.324  \n",
       "1     2.443  \n",
       "2     0.611  \n",
       "3     1.934  \n",
       "4     5.469  "
      ]
     },
     "execution_count": 38,
     "metadata": {},
     "output_type": "execute_result"
    }
   ],
   "source": [
    "test.head()"
   ]
  },
  {
   "cell_type": "code",
   "execution_count": 39,
   "id": "0a058550",
   "metadata": {},
   "outputs": [
    {
     "data": {
      "text/plain": [
       "key                  0\n",
       "fare_amount          0\n",
       "pickup_datetime      0\n",
       "pickup_longitude     0\n",
       "pickup_latitude      0\n",
       "dropoff_longitude    0\n",
       "dropoff_latitude     0\n",
       "passenger_count      0\n",
       "distance             0\n",
       "dtype: int64"
      ]
     },
     "execution_count": 39,
     "metadata": {},
     "output_type": "execute_result"
    }
   ],
   "source": [
    "new_train.isna().sum()"
   ]
  },
  {
   "cell_type": "code",
   "execution_count": 40,
   "id": "0e4b55b3",
   "metadata": {},
   "outputs": [],
   "source": [
    "new_train.pickup_datetime = pd.to_datetime(new_train.pickup_datetime)\n",
    "test.pickup_datetime = pd.to_datetime(test.pickup_datetime)"
   ]
  },
  {
   "cell_type": "code",
   "execution_count": 41,
   "id": "068cb9ec",
   "metadata": {},
   "outputs": [
    {
     "data": {
      "text/plain": [
       "(datetime64[ns, UTC], datetime64[ns, UTC])"
      ]
     },
     "execution_count": 41,
     "metadata": {},
     "output_type": "execute_result"
    }
   ],
   "source": [
    "new_train.pickup_datetime.dtype, test.pickup_datetime.dtype"
   ]
  },
  {
   "cell_type": "code",
   "execution_count": 42,
   "id": "d12bb3a1",
   "metadata": {},
   "outputs": [],
   "source": [
    "new_train['year'] = new_train.pickup_datetime.dt.year\n",
    "new_train['month'] = new_train.pickup_datetime.dt.month\n",
    "new_train['week'] = new_train.pickup_datetime.dt.week\n",
    "new_train['weekday'] = new_train.pickup_datetime.dt.weekday\n",
    "new_train['day'] = new_train.pickup_datetime.dt.day\n",
    "new_train['hour'] = new_train.pickup_datetime.dt.hour"
   ]
  },
  {
   "cell_type": "code",
   "execution_count": 43,
   "id": "66d91ac7",
   "metadata": {},
   "outputs": [],
   "source": [
    "test['year'] = test.pickup_datetime.dt.year\n",
    "test['month'] = test.pickup_datetime.dt.month\n",
    "test['week'] = test.pickup_datetime.dt.week\n",
    "test['weekday'] = test.pickup_datetime.dt.weekday\n",
    "test['day'] = test.pickup_datetime.dt.day\n",
    "test['hour'] = test.pickup_datetime.dt.hour"
   ]
  },
  {
   "cell_type": "code",
   "execution_count": 44,
   "id": "c484d9c5",
   "metadata": {},
   "outputs": [
    {
     "data": {
      "text/plain": [
       "((10000000, 15), (9914, 14))"
      ]
     },
     "execution_count": 44,
     "metadata": {},
     "output_type": "execute_result"
    }
   ],
   "source": [
    "new_train.shape, test.shape"
   ]
  },
  {
   "cell_type": "code",
   "execution_count": 45,
   "id": "5742847e",
   "metadata": {},
   "outputs": [
    {
     "data": {
      "text/html": [
       "<div>\n",
       "<style scoped>\n",
       "    .dataframe tbody tr th:only-of-type {\n",
       "        vertical-align: middle;\n",
       "    }\n",
       "\n",
       "    .dataframe tbody tr th {\n",
       "        vertical-align: top;\n",
       "    }\n",
       "\n",
       "    .dataframe thead th {\n",
       "        text-align: right;\n",
       "    }\n",
       "</style>\n",
       "<table border=\"1\" class=\"dataframe\">\n",
       "  <thead>\n",
       "    <tr style=\"text-align: right;\">\n",
       "      <th></th>\n",
       "      <th>key</th>\n",
       "      <th>fare_amount</th>\n",
       "      <th>pickup_datetime</th>\n",
       "      <th>pickup_longitude</th>\n",
       "      <th>pickup_latitude</th>\n",
       "      <th>dropoff_longitude</th>\n",
       "      <th>dropoff_latitude</th>\n",
       "      <th>passenger_count</th>\n",
       "      <th>distance</th>\n",
       "      <th>year</th>\n",
       "      <th>month</th>\n",
       "      <th>week</th>\n",
       "      <th>weekday</th>\n",
       "      <th>day</th>\n",
       "      <th>hour</th>\n",
       "    </tr>\n",
       "  </thead>\n",
       "  <tbody>\n",
       "    <tr>\n",
       "      <th>0</th>\n",
       "      <td>2014-01-25 23:30:00.000000294</td>\n",
       "      <td>57.33</td>\n",
       "      <td>2014-01-25 23:30:00+00:00</td>\n",
       "      <td>-73.777</td>\n",
       "      <td>40.645</td>\n",
       "      <td>-73.984</td>\n",
       "      <td>40.757</td>\n",
       "      <td>1</td>\n",
       "      <td>21.438</td>\n",
       "      <td>2014</td>\n",
       "      <td>1</td>\n",
       "      <td>4</td>\n",
       "      <td>5</td>\n",
       "      <td>25</td>\n",
       "      <td>23</td>\n",
       "    </tr>\n",
       "    <tr>\n",
       "      <th>1</th>\n",
       "      <td>2012-01-15 18:48:00.00000024</td>\n",
       "      <td>4.50</td>\n",
       "      <td>2012-01-15 18:48:00+00:00</td>\n",
       "      <td>-74.002</td>\n",
       "      <td>40.730</td>\n",
       "      <td>-73.992</td>\n",
       "      <td>40.725</td>\n",
       "      <td>2</td>\n",
       "      <td>1.010</td>\n",
       "      <td>2012</td>\n",
       "      <td>1</td>\n",
       "      <td>2</td>\n",
       "      <td>6</td>\n",
       "      <td>15</td>\n",
       "      <td>18</td>\n",
       "    </tr>\n",
       "    <tr>\n",
       "      <th>2</th>\n",
       "      <td>2013-12-17 15:08:00.0000008</td>\n",
       "      <td>7.00</td>\n",
       "      <td>2013-12-17 15:08:00+00:00</td>\n",
       "      <td>-73.995</td>\n",
       "      <td>40.726</td>\n",
       "      <td>-74.011</td>\n",
       "      <td>40.729</td>\n",
       "      <td>1</td>\n",
       "      <td>1.389</td>\n",
       "      <td>2013</td>\n",
       "      <td>12</td>\n",
       "      <td>51</td>\n",
       "      <td>1</td>\n",
       "      <td>17</td>\n",
       "      <td>15</td>\n",
       "    </tr>\n",
       "    <tr>\n",
       "      <th>3</th>\n",
       "      <td>2009-06-26 05:59:30.0000002</td>\n",
       "      <td>10.10</td>\n",
       "      <td>2009-06-26 05:59:30+00:00</td>\n",
       "      <td>-73.978</td>\n",
       "      <td>40.746</td>\n",
       "      <td>-74.010</td>\n",
       "      <td>40.721</td>\n",
       "      <td>1</td>\n",
       "      <td>3.873</td>\n",
       "      <td>2009</td>\n",
       "      <td>6</td>\n",
       "      <td>26</td>\n",
       "      <td>4</td>\n",
       "      <td>26</td>\n",
       "      <td>5</td>\n",
       "    </tr>\n",
       "    <tr>\n",
       "      <th>4</th>\n",
       "      <td>2012-07-28 02:36:59.0000003</td>\n",
       "      <td>8.90</td>\n",
       "      <td>2012-07-28 02:36:59+00:00</td>\n",
       "      <td>-74.004</td>\n",
       "      <td>40.720</td>\n",
       "      <td>-74.015</td>\n",
       "      <td>40.709</td>\n",
       "      <td>1</td>\n",
       "      <td>1.535</td>\n",
       "      <td>2012</td>\n",
       "      <td>7</td>\n",
       "      <td>30</td>\n",
       "      <td>5</td>\n",
       "      <td>28</td>\n",
       "      <td>2</td>\n",
       "    </tr>\n",
       "  </tbody>\n",
       "</table>\n",
       "</div>"
      ],
      "text/plain": [
       "                             key  fare_amount           pickup_datetime  \\\n",
       "0  2014-01-25 23:30:00.000000294        57.33 2014-01-25 23:30:00+00:00   \n",
       "1   2012-01-15 18:48:00.00000024         4.50 2012-01-15 18:48:00+00:00   \n",
       "2    2013-12-17 15:08:00.0000008         7.00 2013-12-17 15:08:00+00:00   \n",
       "3    2009-06-26 05:59:30.0000002        10.10 2009-06-26 05:59:30+00:00   \n",
       "4    2012-07-28 02:36:59.0000003         8.90 2012-07-28 02:36:59+00:00   \n",
       "\n",
       "   pickup_longitude  pickup_latitude  dropoff_longitude  dropoff_latitude  \\\n",
       "0           -73.777           40.645            -73.984            40.757   \n",
       "1           -74.002           40.730            -73.992            40.725   \n",
       "2           -73.995           40.726            -74.011            40.729   \n",
       "3           -73.978           40.746            -74.010            40.721   \n",
       "4           -74.004           40.720            -74.015            40.709   \n",
       "\n",
       "   passenger_count  distance  year  month  week  weekday  day  hour  \n",
       "0                1    21.438  2014      1     4        5   25    23  \n",
       "1                2     1.010  2012      1     2        6   15    18  \n",
       "2                1     1.389  2013     12    51        1   17    15  \n",
       "3                1     3.873  2009      6    26        4   26     5  \n",
       "4                1     1.535  2012      7    30        5   28     2  "
      ]
     },
     "execution_count": 45,
     "metadata": {},
     "output_type": "execute_result"
    }
   ],
   "source": [
    "new_train.head()"
   ]
  },
  {
   "cell_type": "code",
   "execution_count": 46,
   "id": "2d58f8dd",
   "metadata": {},
   "outputs": [
    {
     "data": {
      "text/plain": [
       "key                  0\n",
       "fare_amount          0\n",
       "pickup_datetime      0\n",
       "pickup_longitude     0\n",
       "pickup_latitude      0\n",
       "dropoff_longitude    0\n",
       "dropoff_latitude     0\n",
       "passenger_count      0\n",
       "distance             0\n",
       "year                 0\n",
       "month                0\n",
       "week                 0\n",
       "weekday              0\n",
       "day                  0\n",
       "hour                 0\n",
       "dtype: int64"
      ]
     },
     "execution_count": 46,
     "metadata": {},
     "output_type": "execute_result"
    }
   ],
   "source": [
    "new_train.isna().sum()"
   ]
  },
  {
   "cell_type": "code",
   "execution_count": 47,
   "id": "c2c6d3a4",
   "metadata": {},
   "outputs": [
    {
     "name": "stdout",
     "output_type": "stream",
     "text": [
      "<class 'pandas.core.frame.DataFrame'>\n",
      "Int64Index: 10000000 entries, 0 to 9999999\n",
      "Data columns (total 15 columns):\n",
      "key                  object\n",
      "fare_amount          float64\n",
      "pickup_datetime      datetime64[ns, UTC]\n",
      "pickup_longitude     float64\n",
      "pickup_latitude      float64\n",
      "dropoff_longitude    float64\n",
      "dropoff_latitude     float64\n",
      "passenger_count      int64\n",
      "distance             float64\n",
      "year                 int64\n",
      "month                int64\n",
      "week                 int64\n",
      "weekday              int64\n",
      "day                  int64\n",
      "hour                 int64\n",
      "dtypes: datetime64[ns, UTC](1), float64(6), int64(7), object(1)\n",
      "memory usage: 1.2+ GB\n"
     ]
    }
   ],
   "source": [
    "new_train.info()"
   ]
  },
  {
   "cell_type": "code",
   "execution_count": 48,
   "id": "a81015cc",
   "metadata": {},
   "outputs": [
    {
     "data": {
      "text/html": [
       "<div>\n",
       "<style scoped>\n",
       "    .dataframe tbody tr th:only-of-type {\n",
       "        vertical-align: middle;\n",
       "    }\n",
       "\n",
       "    .dataframe tbody tr th {\n",
       "        vertical-align: top;\n",
       "    }\n",
       "\n",
       "    .dataframe thead th {\n",
       "        text-align: right;\n",
       "    }\n",
       "</style>\n",
       "<table border=\"1\" class=\"dataframe\">\n",
       "  <thead>\n",
       "    <tr style=\"text-align: right;\">\n",
       "      <th></th>\n",
       "      <th>key</th>\n",
       "      <th>pickup_datetime</th>\n",
       "      <th>pickup_longitude</th>\n",
       "      <th>pickup_latitude</th>\n",
       "      <th>dropoff_longitude</th>\n",
       "      <th>dropoff_latitude</th>\n",
       "      <th>passenger_count</th>\n",
       "      <th>distance</th>\n",
       "      <th>year</th>\n",
       "      <th>month</th>\n",
       "      <th>week</th>\n",
       "      <th>weekday</th>\n",
       "      <th>day</th>\n",
       "      <th>hour</th>\n",
       "    </tr>\n",
       "  </thead>\n",
       "  <tbody>\n",
       "    <tr>\n",
       "      <th>0</th>\n",
       "      <td>2015-01-27 13:08:24.0000002</td>\n",
       "      <td>2015-01-27 13:08:24+00:00</td>\n",
       "      <td>-73.973</td>\n",
       "      <td>40.764</td>\n",
       "      <td>-73.981</td>\n",
       "      <td>40.744</td>\n",
       "      <td>1</td>\n",
       "      <td>2.324</td>\n",
       "      <td>2015</td>\n",
       "      <td>1</td>\n",
       "      <td>5</td>\n",
       "      <td>1</td>\n",
       "      <td>27</td>\n",
       "      <td>13</td>\n",
       "    </tr>\n",
       "    <tr>\n",
       "      <th>1</th>\n",
       "      <td>2015-01-27 13:08:24.0000003</td>\n",
       "      <td>2015-01-27 13:08:24+00:00</td>\n",
       "      <td>-73.987</td>\n",
       "      <td>40.719</td>\n",
       "      <td>-73.999</td>\n",
       "      <td>40.739</td>\n",
       "      <td>1</td>\n",
       "      <td>2.443</td>\n",
       "      <td>2015</td>\n",
       "      <td>1</td>\n",
       "      <td>5</td>\n",
       "      <td>1</td>\n",
       "      <td>27</td>\n",
       "      <td>13</td>\n",
       "    </tr>\n",
       "    <tr>\n",
       "      <th>2</th>\n",
       "      <td>2011-10-08 11:53:44.0000002</td>\n",
       "      <td>2011-10-08 11:53:44+00:00</td>\n",
       "      <td>-73.983</td>\n",
       "      <td>40.751</td>\n",
       "      <td>-73.980</td>\n",
       "      <td>40.746</td>\n",
       "      <td>1</td>\n",
       "      <td>0.611</td>\n",
       "      <td>2011</td>\n",
       "      <td>10</td>\n",
       "      <td>40</td>\n",
       "      <td>5</td>\n",
       "      <td>8</td>\n",
       "      <td>11</td>\n",
       "    </tr>\n",
       "    <tr>\n",
       "      <th>3</th>\n",
       "      <td>2012-12-01 21:12:12.0000002</td>\n",
       "      <td>2012-12-01 21:12:12+00:00</td>\n",
       "      <td>-73.981</td>\n",
       "      <td>40.768</td>\n",
       "      <td>-73.990</td>\n",
       "      <td>40.752</td>\n",
       "      <td>1</td>\n",
       "      <td>1.934</td>\n",
       "      <td>2012</td>\n",
       "      <td>12</td>\n",
       "      <td>48</td>\n",
       "      <td>5</td>\n",
       "      <td>1</td>\n",
       "      <td>21</td>\n",
       "    </tr>\n",
       "    <tr>\n",
       "      <th>4</th>\n",
       "      <td>2012-12-01 21:12:12.0000003</td>\n",
       "      <td>2012-12-01 21:12:12+00:00</td>\n",
       "      <td>-73.966</td>\n",
       "      <td>40.790</td>\n",
       "      <td>-73.989</td>\n",
       "      <td>40.744</td>\n",
       "      <td>1</td>\n",
       "      <td>5.469</td>\n",
       "      <td>2012</td>\n",
       "      <td>12</td>\n",
       "      <td>48</td>\n",
       "      <td>5</td>\n",
       "      <td>1</td>\n",
       "      <td>21</td>\n",
       "    </tr>\n",
       "  </tbody>\n",
       "</table>\n",
       "</div>"
      ],
      "text/plain": [
       "                           key           pickup_datetime  pickup_longitude  \\\n",
       "0  2015-01-27 13:08:24.0000002 2015-01-27 13:08:24+00:00           -73.973   \n",
       "1  2015-01-27 13:08:24.0000003 2015-01-27 13:08:24+00:00           -73.987   \n",
       "2  2011-10-08 11:53:44.0000002 2011-10-08 11:53:44+00:00           -73.983   \n",
       "3  2012-12-01 21:12:12.0000002 2012-12-01 21:12:12+00:00           -73.981   \n",
       "4  2012-12-01 21:12:12.0000003 2012-12-01 21:12:12+00:00           -73.966   \n",
       "\n",
       "   pickup_latitude  dropoff_longitude  dropoff_latitude  passenger_count  \\\n",
       "0           40.764            -73.981            40.744                1   \n",
       "1           40.719            -73.999            40.739                1   \n",
       "2           40.751            -73.980            40.746                1   \n",
       "3           40.768            -73.990            40.752                1   \n",
       "4           40.790            -73.989            40.744                1   \n",
       "\n",
       "   distance  year  month  week  weekday  day  hour  \n",
       "0     2.324  2015      1     5        1   27    13  \n",
       "1     2.443  2015      1     5        1   27    13  \n",
       "2     0.611  2011     10    40        5    8    11  \n",
       "3     1.934  2012     12    48        5    1    21  \n",
       "4     5.469  2012     12    48        5    1    21  "
      ]
     },
     "execution_count": 48,
     "metadata": {},
     "output_type": "execute_result"
    }
   ],
   "source": [
    "test.head()"
   ]
  },
  {
   "cell_type": "code",
   "execution_count": 49,
   "id": "8a4b4730",
   "metadata": {},
   "outputs": [
    {
     "data": {
      "text/plain": [
       "key                  0\n",
       "pickup_datetime      0\n",
       "pickup_longitude     0\n",
       "pickup_latitude      0\n",
       "dropoff_longitude    0\n",
       "dropoff_latitude     0\n",
       "passenger_count      0\n",
       "distance             0\n",
       "year                 0\n",
       "month                0\n",
       "week                 0\n",
       "weekday              0\n",
       "day                  0\n",
       "hour                 0\n",
       "dtype: int64"
      ]
     },
     "execution_count": 49,
     "metadata": {},
     "output_type": "execute_result"
    }
   ],
   "source": [
    "test.isna().sum()"
   ]
  },
  {
   "cell_type": "code",
   "execution_count": 50,
   "id": "7e481467",
   "metadata": {},
   "outputs": [
    {
     "name": "stdout",
     "output_type": "stream",
     "text": [
      "<class 'pandas.core.frame.DataFrame'>\n",
      "RangeIndex: 9914 entries, 0 to 9913\n",
      "Data columns (total 14 columns):\n",
      "key                  9914 non-null object\n",
      "pickup_datetime      9914 non-null datetime64[ns, UTC]\n",
      "pickup_longitude     9914 non-null float64\n",
      "pickup_latitude      9914 non-null float64\n",
      "dropoff_longitude    9914 non-null float64\n",
      "dropoff_latitude     9914 non-null float64\n",
      "passenger_count      9914 non-null int64\n",
      "distance             9914 non-null float64\n",
      "year                 9914 non-null int64\n",
      "month                9914 non-null int64\n",
      "week                 9914 non-null int64\n",
      "weekday              9914 non-null int64\n",
      "day                  9914 non-null int64\n",
      "hour                 9914 non-null int64\n",
      "dtypes: datetime64[ns, UTC](1), float64(5), int64(7), object(1)\n",
      "memory usage: 1.1+ MB\n"
     ]
    }
   ],
   "source": [
    "test.info()"
   ]
  },
  {
   "cell_type": "markdown",
   "id": "7ddff1de",
   "metadata": {},
   "source": [
    "### **Lets plot the remaining features to detect some outliers and remove them for better training data.**"
   ]
  },
  {
   "cell_type": "code",
   "execution_count": 51,
   "id": "a49b88d3",
   "metadata": {},
   "outputs": [
    {
     "data": {
      "text/plain": [
       "<matplotlib.axes._subplots.AxesSubplot at 0x7fcaa09cce10>"
      ]
     },
     "execution_count": 51,
     "metadata": {},
     "output_type": "execute_result"
    },
    {
     "data": {
      "image/png": "[encoded data removed]",
      "text/plain": [
       "<Figure size 432x288 with 1 Axes>"
      ]
     },
     "metadata": {
      "needs_background": "light"
     },
     "output_type": "display_data"
    }
   ],
   "source": [
    "new_train.passenger_count.value_counts(ascending=True).plot.bar()"
   ]
  },
  {
   "cell_type": "markdown",
   "id": "252d3936",
   "metadata": {},
   "source": [
    "<span style='color:blue'>1. Passenger count more than 6 seems to be a number occuring very less or an outlier and hence can be removed.</span>"
   ]
  },
  {
   "cell_type": "code",
   "execution_count": 52,
   "id": "28373053",
   "metadata": {},
   "outputs": [
    {
     "data": {
      "text/plain": [
       "<matplotlib.axes._subplots.AxesSubplot at 0x7fcaa0167a10>"
      ]
     },
     "execution_count": 52,
     "metadata": {},
     "output_type": "execute_result"
    },
    {
     "data": {
      "image/png": "[encoded data removed]",
      "text/plain": [
       "<Figure size 432x288 with 1 Axes>"
      ]
     },
     "metadata": {
      "needs_background": "light"
     },
     "output_type": "display_data"
    }
   ],
   "source": [
    "new_train.year.value_counts(ascending=True).plot.bar()"
   ]
  },
  {
   "cell_type": "markdown",
   "id": "176b0113",
   "metadata": {},
   "source": [
    "<span style='color:blue'>2. Year attribute has a good distribution.</span>"
   ]
  },
  {
   "cell_type": "code",
   "execution_count": 53,
   "id": "dffc464a",
   "metadata": {},
   "outputs": [
    {
     "data": {
      "text/plain": [
       "<matplotlib.axes._subplots.AxesSubplot at 0x7fcaa0097cd0>"
      ]
     },
     "execution_count": 53,
     "metadata": {},
     "output_type": "execute_result"
    },
    {
     "data": {
      "image/png": "[encoded data removed]",
      "text/plain": [
       "<Figure size 432x288 with 1 Axes>"
      ]
     },
     "metadata": {
      "needs_background": "light"
     },
     "output_type": "display_data"
    }
   ],
   "source": [
    "new_train.month.value_counts(ascending=True).plot.bar()"
   ]
  },
  {
   "cell_type": "markdown",
   "id": "c5b66042",
   "metadata": {},
   "source": [
    "<span style='color:blue'>3. Month attribute has a good distribution.</span>"
   ]
  },
  {
   "cell_type": "code",
   "execution_count": 54,
   "id": "c317cdc5",
   "metadata": {},
   "outputs": [
    {
     "data": {
      "text/plain": [
       "<matplotlib.axes._subplots.AxesSubplot at 0x7fcaa0034f90>"
      ]
     },
     "execution_count": 54,
     "metadata": {},
     "output_type": "execute_result"
    },
    {
     "data": {
      "image/png": "[encoded data removed]",
      "text/plain": [
       "<Figure size 864x288 with 1 Axes>"
      ]
     },
     "metadata": {
      "needs_background": "light"
     },
     "output_type": "display_data"
    }
   ],
   "source": [
    "new_train.week.value_counts(ascending=True).plot.bar(figsize=(12,4))"
   ]
  },
  {
   "cell_type": "markdown",
   "id": "7500a9e5",
   "metadata": {},
   "source": [
    "<span style='color:blue'>4. Week attribute has a good distribution.</span>"
   ]
  },
  {
   "cell_type": "code",
   "execution_count": 55,
   "id": "80004147",
   "metadata": {},
   "outputs": [
    {
     "data": {
      "text/plain": [
       "<matplotlib.axes._subplots.AxesSubplot at 0x7fca9fa84a90>"
      ]
     },
     "execution_count": 55,
     "metadata": {},
     "output_type": "execute_result"
    },
    {
     "data": {
      "image/png": "[encoded data removed]",
      "text/plain": [
       "<Figure size 432x288 with 1 Axes>"
      ]
     },
     "metadata": {
      "needs_background": "light"
     },
     "output_type": "display_data"
    }
   ],
   "source": [
    "new_train.weekday.value_counts(ascending=True).plot.bar()"
   ]
  },
  {
   "cell_type": "markdown",
   "id": "1f04f332",
   "metadata": {},
   "source": [
    "<span style='color:blue'>5. Weekday attribute has a good distribution.</span>"
   ]
  },
  {
   "cell_type": "code",
   "execution_count": 56,
   "id": "ce287c90",
   "metadata": {},
   "outputs": [
    {
     "data": {
      "text/plain": [
       "<matplotlib.axes._subplots.AxesSubplot at 0x7fca9fa0f810>"
      ]
     },
     "execution_count": 56,
     "metadata": {},
     "output_type": "execute_result"
    },
    {
     "data": {
      "image/png": "[encoded data removed]",
      "text/plain": [
       "<Figure size 432x288 with 1 Axes>"
      ]
     },
     "metadata": {
      "needs_background": "light"
     },
     "output_type": "display_data"
    }
   ],
   "source": [
    "new_train.day.value_counts(ascending=True).plot.bar()"
   ]
  },
  {
   "cell_type": "markdown",
   "id": "1007ab25",
   "metadata": {},
   "source": [
    "<span style='color:blue'>6. Day attribute has a good distribution.</span>"
   ]
  },
  {
   "cell_type": "code",
   "execution_count": 57,
   "id": "16fa39fb",
   "metadata": {},
   "outputs": [
    {
     "data": {
      "text/plain": [
       "<matplotlib.axes._subplots.AxesSubplot at 0x7fca9f917310>"
      ]
     },
     "execution_count": 57,
     "metadata": {},
     "output_type": "execute_result"
    },
    {
     "data": {
      "image/png": "[encoded data removed]",
      "text/plain": [
       "<Figure size 576x288 with 1 Axes>"
      ]
     },
     "metadata": {
      "needs_background": "light"
     },
     "output_type": "display_data"
    }
   ],
   "source": [
    "new_train.hour.value_counts(ascending=True).plot.bar(figsize=(8,4))"
   ]
  },
  {
   "cell_type": "markdown",
   "id": "469616ae",
   "metadata": {},
   "source": [
    "<span style='color:blue'>7. Hour attribute has a good distribution.</span>"
   ]
  },
  {
   "cell_type": "markdown",
   "id": "b199caf9",
   "metadata": {},
   "source": [
    "### **Removing the outliers from the data.**"
   ]
  },
  {
   "cell_type": "code",
   "execution_count": 58,
   "id": "3d050830",
   "metadata": {},
   "outputs": [
    {
     "data": {
      "text/plain": [
       "<matplotlib.axes._subplots.AxesSubplot at 0x7fcaa0a09490>"
      ]
     },
     "execution_count": 58,
     "metadata": {},
     "output_type": "execute_result"
    },
    {
     "data": {
      "image/png": "[encoded data removed]",
      "text/plain": [
       "<Figure size 432x288 with 1 Axes>"
      ]
     },
     "metadata": {
      "needs_background": "light"
     },
     "output_type": "display_data"
    }
   ],
   "source": [
    "# Removing the passenger counts <1 and >6.\n",
    "# Reason: <1 passenger does not make sense and >6 passesngers are rare in the dataset and seems to be a very large number for a cab and hence seems to be outliers.\n",
    "new_train.passenger_count = new_train.passenger_count[new_train.passenger_count.between(left=1, right=6)]\n",
    "new_train.passenger_count.value_counts(ascending=True).plot.bar()"
   ]
  },
  {
   "cell_type": "code",
   "execution_count": 59,
   "id": "0ddf7916",
   "metadata": {},
   "outputs": [
    {
     "data": {
      "text/plain": [
       "key                      0\n",
       "fare_amount              0\n",
       "pickup_datetime          0\n",
       "pickup_longitude         0\n",
       "pickup_latitude          0\n",
       "dropoff_longitude        0\n",
       "dropoff_latitude         0\n",
       "passenger_count      35035\n",
       "distance                 0\n",
       "year                     0\n",
       "month                    0\n",
       "week                     0\n",
       "weekday                  0\n",
       "day                      0\n",
       "hour                     0\n",
       "dtype: int64"
      ]
     },
     "execution_count": 59,
     "metadata": {},
     "output_type": "execute_result"
    }
   ],
   "source": [
    "new_train.isna().sum()"
   ]
  },
  {
   "cell_type": "code",
   "execution_count": 60,
   "id": "12cea106",
   "metadata": {},
   "outputs": [
    {
     "data": {
      "text/plain": [
       "array([ 1.,  2.,  4.,  5.,  6.,  3., nan])"
      ]
     },
     "execution_count": 60,
     "metadata": {},
     "output_type": "execute_result"
    }
   ],
   "source": [
    "new_train.passenger_count.unique()"
   ]
  },
  {
   "cell_type": "code",
   "execution_count": 61,
   "id": "77521665",
   "metadata": {},
   "outputs": [
    {
     "data": {
      "text/plain": [
       "count    1.000000e+07\n",
       "mean     1.130970e+01\n",
       "std      9.619489e+00\n",
       "min     -9.500000e+01\n",
       "25%      6.000000e+00\n",
       "50%      8.500000e+00\n",
       "75%      1.250000e+01\n",
       "max      9.000000e+02\n",
       "Name: fare_amount, dtype: float64"
      ]
     },
     "execution_count": 61,
     "metadata": {},
     "output_type": "execute_result"
    }
   ],
   "source": [
    "new_train.fare_amount.describe()"
   ]
  },
  {
   "cell_type": "code",
   "execution_count": 62,
   "id": "adf2b9cb",
   "metadata": {},
   "outputs": [
    {
     "data": {
      "image/png": "[encoded data removed]",
      "text/plain": [
       "<Figure size 432x288 with 1 Axes>"
      ]
     },
     "metadata": {
      "needs_background": "light"
     },
     "output_type": "display_data"
    }
   ],
   "source": [
    "out = pd.cut(new_train.fare_amount, bins=[new_train.fare_amount.min(), 0, 2.5, 500, 1000], include_lowest=True)\n",
    "ax = out.value_counts(sort=False).plot.bar(rot=0, figsize=(6,4))\n",
    "plt.show()"
   ]
  },
  {
   "cell_type": "code",
   "execution_count": 63,
   "id": "4cd4142d",
   "metadata": {},
   "outputs": [],
   "source": [
    "new_train.fare_amount = new_train.fare_amount[new_train.fare_amount.between(left=1, right=500)]"
   ]
  },
  {
   "cell_type": "code",
   "execution_count": 64,
   "id": "6fbabef9",
   "metadata": {},
   "outputs": [
    {
     "data": {
      "text/plain": [
       "key                      0\n",
       "fare_amount            680\n",
       "pickup_datetime          0\n",
       "pickup_longitude         0\n",
       "pickup_latitude          0\n",
       "dropoff_longitude        0\n",
       "dropoff_latitude         0\n",
       "passenger_count      35035\n",
       "distance                 0\n",
       "year                     0\n",
       "month                    0\n",
       "week                     0\n",
       "weekday                  0\n",
       "day                      0\n",
       "hour                     0\n",
       "dtype: int64"
      ]
     },
     "execution_count": 64,
     "metadata": {},
     "output_type": "execute_result"
    }
   ],
   "source": [
    "new_train.isna().sum()"
   ]
  },
  {
   "cell_type": "code",
   "execution_count": 65,
   "id": "7daeac8a",
   "metadata": {},
   "outputs": [
    {
     "data": {
      "text/plain": [
       "count    1.000000e+07\n",
       "mean     3.323207e+00\n",
       "std      3.745759e+00\n",
       "min      0.000000e+00\n",
       "25%      1.259000e+00\n",
       "50%      2.149000e+00\n",
       "75%      3.906000e+00\n",
       "max      1.156180e+02\n",
       "Name: distance, dtype: float64"
      ]
     },
     "execution_count": 65,
     "metadata": {},
     "output_type": "execute_result"
    }
   ],
   "source": [
    "new_train.distance.describe()"
   ]
  },
  {
   "cell_type": "code",
   "execution_count": 66,
   "id": "3fbcd740",
   "metadata": {},
   "outputs": [
    {
     "data": {
      "image/png": "[encoded data removed]",
      "text/plain": [
       "<Figure size 864x288 with 1 Axes>"
      ]
     },
     "metadata": {
      "needs_background": "light"
     },
     "output_type": "display_data"
    }
   ],
   "source": [
    "out = pd.cut(new_train.distance, bins=[new_train.distance.min(), 1, 5, 10, 15, 20, 30, 50, new_train.distance.max()], include_lowest=True)\n",
    "ax = out.value_counts(sort=False).plot.bar(rot=0, figsize=(12,4))\n",
    "plt.show()"
   ]
  },
  {
   "cell_type": "code",
   "execution_count": 67,
   "id": "b493e530",
   "metadata": {},
   "outputs": [],
   "source": [
    "new_train.distance = new_train.distance[new_train.distance.between(left=1, right=30)]"
   ]
  },
  {
   "cell_type": "code",
   "execution_count": 68,
   "id": "b9b1657e",
   "metadata": {},
   "outputs": [
    {
     "data": {
      "text/plain": [
       "key                        0\n",
       "fare_amount              680\n",
       "pickup_datetime            0\n",
       "pickup_longitude           0\n",
       "pickup_latitude            0\n",
       "dropoff_longitude          0\n",
       "dropoff_latitude           0\n",
       "passenger_count        35035\n",
       "distance             1618438\n",
       "year                       0\n",
       "month                      0\n",
       "week                       0\n",
       "weekday                    0\n",
       "day                        0\n",
       "hour                       0\n",
       "dtype: int64"
      ]
     },
     "execution_count": 68,
     "metadata": {},
     "output_type": "execute_result"
    }
   ],
   "source": [
    "new_train.isna().sum()"
   ]
  },
  {
   "cell_type": "markdown",
   "id": "e2699f47",
   "metadata": {},
   "source": [
    "#### **This function was supposed to be used but didnt work out well in the experiment. The code reference is from one of my undergrad basic projects.**"
   ]
  },
  {
   "cell_type": "code",
   "execution_count": 69,
   "id": "93dced35",
   "metadata": {},
   "outputs": [],
   "source": [
    "# def detect_outliers(df, n, features):\n",
    "#     outlier_indices = []\n",
    "    \n",
    "#     # iterate ovemaxeatures(columns)\n",
    "#     for col in features:\n",
    "#         # 1st quartile (25%)\n",
    "#         Q1 = np.percentile(df[col], 25)\n",
    "#         # 3rd quartile (75%)\n",
    "#         Q3 = np.percentile(df[col],75)\n",
    "#         # Interquartile range (IQR)\n",
    "#         IQR = Q3 - Q1\n",
    "        \n",
    "#         # outlier step\n",
    "#         outlier_step = 1.5 * IQR\n",
    "        \n",
    "#         # Determine a list of indices of outliers for feature col\n",
    "#         outlier_list_col = df[(df[col] < Q1 - outlier_step) | (df[col] > Q3 + outlier_step )].index\n",
    "        \n",
    "#         # append the found outlier indices for col to the list of outlier indices \n",
    "#         outlier_indices.extend(outlier_list_col)\n",
    "        \n",
    "#     # select observations containing more than n outliers\n",
    "#     outlier_indices = Counter(outlier_indices)        \n",
    "#     multiple_outliers = list( k for k, v in outlier_indices.items() if v > n )\n",
    "    \n",
    "#     return multiple_outliers"
   ]
  },
  {
   "cell_type": "code",
   "execution_count": 70,
   "id": "e43359e0",
   "metadata": {},
   "outputs": [],
   "source": [
    "# Outliers_to_drop = detect_outliers(train, 1, ['distance', 'fare_amount'])\n",
    "# len(Outliers_to_drop)\n",
    "# new_train = train.drop(Outliers_to_drop, axis = 0).reset_index(drop=True)"
   ]
  },
  {
   "cell_type": "code",
   "execution_count": 71,
   "id": "71d88d90",
   "metadata": {},
   "outputs": [],
   "source": [
    "new_train.dropna(inplace=True)"
   ]
  },
  {
   "cell_type": "code",
   "execution_count": 73,
   "id": "99b252fa",
   "metadata": {},
   "outputs": [
    {
     "data": {
      "text/html": [
       "<div>\n",
       "<style scoped>\n",
       "    .dataframe tbody tr th:only-of-type {\n",
       "        vertical-align: middle;\n",
       "    }\n",
       "\n",
       "    .dataframe tbody tr th {\n",
       "        vertical-align: top;\n",
       "    }\n",
       "\n",
       "    .dataframe thead th {\n",
       "        text-align: right;\n",
       "    }\n",
       "</style>\n",
       "<table border=\"1\" class=\"dataframe\">\n",
       "  <thead>\n",
       "    <tr style=\"text-align: right;\">\n",
       "      <th></th>\n",
       "      <th>key</th>\n",
       "      <th>fare_amount</th>\n",
       "      <th>pickup_datetime</th>\n",
       "      <th>pickup_longitude</th>\n",
       "      <th>pickup_latitude</th>\n",
       "      <th>dropoff_longitude</th>\n",
       "      <th>dropoff_latitude</th>\n",
       "      <th>passenger_count</th>\n",
       "      <th>distance</th>\n",
       "      <th>year</th>\n",
       "      <th>month</th>\n",
       "      <th>week</th>\n",
       "      <th>weekday</th>\n",
       "      <th>day</th>\n",
       "      <th>hour</th>\n",
       "    </tr>\n",
       "  </thead>\n",
       "  <tbody>\n",
       "    <tr>\n",
       "      <th>0</th>\n",
       "      <td>2014-01-25 23:30:00.000000294</td>\n",
       "      <td>57.33</td>\n",
       "      <td>2014-01-25 23:30:00+00:00</td>\n",
       "      <td>-73.777</td>\n",
       "      <td>40.645</td>\n",
       "      <td>-73.984</td>\n",
       "      <td>40.757</td>\n",
       "      <td>1.0</td>\n",
       "      <td>21.438</td>\n",
       "      <td>2014</td>\n",
       "      <td>1</td>\n",
       "      <td>4</td>\n",
       "      <td>5</td>\n",
       "      <td>25</td>\n",
       "      <td>23</td>\n",
       "    </tr>\n",
       "    <tr>\n",
       "      <th>1</th>\n",
       "      <td>2012-01-15 18:48:00.00000024</td>\n",
       "      <td>4.50</td>\n",
       "      <td>2012-01-15 18:48:00+00:00</td>\n",
       "      <td>-74.002</td>\n",
       "      <td>40.730</td>\n",
       "      <td>-73.992</td>\n",
       "      <td>40.725</td>\n",
       "      <td>2.0</td>\n",
       "      <td>1.010</td>\n",
       "      <td>2012</td>\n",
       "      <td>1</td>\n",
       "      <td>2</td>\n",
       "      <td>6</td>\n",
       "      <td>15</td>\n",
       "      <td>18</td>\n",
       "    </tr>\n",
       "    <tr>\n",
       "      <th>2</th>\n",
       "      <td>2013-12-17 15:08:00.0000008</td>\n",
       "      <td>7.00</td>\n",
       "      <td>2013-12-17 15:08:00+00:00</td>\n",
       "      <td>-73.995</td>\n",
       "      <td>40.726</td>\n",
       "      <td>-74.011</td>\n",
       "      <td>40.729</td>\n",
       "      <td>1.0</td>\n",
       "      <td>1.389</td>\n",
       "      <td>2013</td>\n",
       "      <td>12</td>\n",
       "      <td>51</td>\n",
       "      <td>1</td>\n",
       "      <td>17</td>\n",
       "      <td>15</td>\n",
       "    </tr>\n",
       "    <tr>\n",
       "      <th>3</th>\n",
       "      <td>2009-06-26 05:59:30.0000002</td>\n",
       "      <td>10.10</td>\n",
       "      <td>2009-06-26 05:59:30+00:00</td>\n",
       "      <td>-73.978</td>\n",
       "      <td>40.746</td>\n",
       "      <td>-74.010</td>\n",
       "      <td>40.721</td>\n",
       "      <td>1.0</td>\n",
       "      <td>3.873</td>\n",
       "      <td>2009</td>\n",
       "      <td>6</td>\n",
       "      <td>26</td>\n",
       "      <td>4</td>\n",
       "      <td>26</td>\n",
       "      <td>5</td>\n",
       "    </tr>\n",
       "    <tr>\n",
       "      <th>4</th>\n",
       "      <td>2012-07-28 02:36:59.0000003</td>\n",
       "      <td>8.90</td>\n",
       "      <td>2012-07-28 02:36:59+00:00</td>\n",
       "      <td>-74.004</td>\n",
       "      <td>40.720</td>\n",
       "      <td>-74.015</td>\n",
       "      <td>40.709</td>\n",
       "      <td>1.0</td>\n",
       "      <td>1.535</td>\n",
       "      <td>2012</td>\n",
       "      <td>7</td>\n",
       "      <td>30</td>\n",
       "      <td>5</td>\n",
       "      <td>28</td>\n",
       "      <td>2</td>\n",
       "    </tr>\n",
       "  </tbody>\n",
       "</table>\n",
       "</div>"
      ],
      "text/plain": [
       "                             key  fare_amount           pickup_datetime  \\\n",
       "0  2014-01-25 23:30:00.000000294        57.33 2014-01-25 23:30:00+00:00   \n",
       "1   2012-01-15 18:48:00.00000024         4.50 2012-01-15 18:48:00+00:00   \n",
       "2    2013-12-17 15:08:00.0000008         7.00 2013-12-17 15:08:00+00:00   \n",
       "3    2009-06-26 05:59:30.0000002        10.10 2009-06-26 05:59:30+00:00   \n",
       "4    2012-07-28 02:36:59.0000003         8.90 2012-07-28 02:36:59+00:00   \n",
       "\n",
       "   pickup_longitude  pickup_latitude  dropoff_longitude  dropoff_latitude  \\\n",
       "0           -73.777           40.645            -73.984            40.757   \n",
       "1           -74.002           40.730            -73.992            40.725   \n",
       "2           -73.995           40.726            -74.011            40.729   \n",
       "3           -73.978           40.746            -74.010            40.721   \n",
       "4           -74.004           40.720            -74.015            40.709   \n",
       "\n",
       "   passenger_count  distance  year  month  week  weekday  day  hour  \n",
       "0              1.0    21.438  2014      1     4        5   25    23  \n",
       "1              2.0     1.010  2012      1     2        6   15    18  \n",
       "2              1.0     1.389  2013     12    51        1   17    15  \n",
       "3              1.0     3.873  2009      6    26        4   26     5  \n",
       "4              1.0     1.535  2012      7    30        5   28     2  "
      ]
     },
     "execution_count": 73,
     "metadata": {},
     "output_type": "execute_result"
    }
   ],
   "source": [
    "new_train.head()"
   ]
  },
  {
   "cell_type": "code",
   "execution_count": 74,
   "id": "1febd660",
   "metadata": {},
   "outputs": [],
   "source": [
    "# new_train.to_csv('train_sub_preprocessed.csv', index=False)"
   ]
  },
  {
   "cell_type": "code",
   "execution_count": 75,
   "id": "3edb1ebf",
   "metadata": {},
   "outputs": [
    {
     "data": {
      "text/html": [
       "<div>\n",
       "<style scoped>\n",
       "    .dataframe tbody tr th:only-of-type {\n",
       "        vertical-align: middle;\n",
       "    }\n",
       "\n",
       "    .dataframe tbody tr th {\n",
       "        vertical-align: top;\n",
       "    }\n",
       "\n",
       "    .dataframe thead th {\n",
       "        text-align: right;\n",
       "    }\n",
       "</style>\n",
       "<table border=\"1\" class=\"dataframe\">\n",
       "  <thead>\n",
       "    <tr style=\"text-align: right;\">\n",
       "      <th></th>\n",
       "      <th>key</th>\n",
       "      <th>pickup_datetime</th>\n",
       "      <th>pickup_longitude</th>\n",
       "      <th>pickup_latitude</th>\n",
       "      <th>dropoff_longitude</th>\n",
       "      <th>dropoff_latitude</th>\n",
       "      <th>passenger_count</th>\n",
       "      <th>distance</th>\n",
       "      <th>year</th>\n",
       "      <th>month</th>\n",
       "      <th>week</th>\n",
       "      <th>weekday</th>\n",
       "      <th>day</th>\n",
       "      <th>hour</th>\n",
       "    </tr>\n",
       "  </thead>\n",
       "  <tbody>\n",
       "    <tr>\n",
       "      <th>0</th>\n",
       "      <td>2015-01-27 13:08:24.0000002</td>\n",
       "      <td>2015-01-27 13:08:24+00:00</td>\n",
       "      <td>-73.973</td>\n",
       "      <td>40.764</td>\n",
       "      <td>-73.981</td>\n",
       "      <td>40.744</td>\n",
       "      <td>1</td>\n",
       "      <td>2.324</td>\n",
       "      <td>2015</td>\n",
       "      <td>1</td>\n",
       "      <td>5</td>\n",
       "      <td>1</td>\n",
       "      <td>27</td>\n",
       "      <td>13</td>\n",
       "    </tr>\n",
       "    <tr>\n",
       "      <th>1</th>\n",
       "      <td>2015-01-27 13:08:24.0000003</td>\n",
       "      <td>2015-01-27 13:08:24+00:00</td>\n",
       "      <td>-73.987</td>\n",
       "      <td>40.719</td>\n",
       "      <td>-73.999</td>\n",
       "      <td>40.739</td>\n",
       "      <td>1</td>\n",
       "      <td>2.443</td>\n",
       "      <td>2015</td>\n",
       "      <td>1</td>\n",
       "      <td>5</td>\n",
       "      <td>1</td>\n",
       "      <td>27</td>\n",
       "      <td>13</td>\n",
       "    </tr>\n",
       "    <tr>\n",
       "      <th>2</th>\n",
       "      <td>2011-10-08 11:53:44.0000002</td>\n",
       "      <td>2011-10-08 11:53:44+00:00</td>\n",
       "      <td>-73.983</td>\n",
       "      <td>40.751</td>\n",
       "      <td>-73.980</td>\n",
       "      <td>40.746</td>\n",
       "      <td>1</td>\n",
       "      <td>0.611</td>\n",
       "      <td>2011</td>\n",
       "      <td>10</td>\n",
       "      <td>40</td>\n",
       "      <td>5</td>\n",
       "      <td>8</td>\n",
       "      <td>11</td>\n",
       "    </tr>\n",
       "    <tr>\n",
       "      <th>3</th>\n",
       "      <td>2012-12-01 21:12:12.0000002</td>\n",
       "      <td>2012-12-01 21:12:12+00:00</td>\n",
       "      <td>-73.981</td>\n",
       "      <td>40.768</td>\n",
       "      <td>-73.990</td>\n",
       "      <td>40.752</td>\n",
       "      <td>1</td>\n",
       "      <td>1.934</td>\n",
       "      <td>2012</td>\n",
       "      <td>12</td>\n",
       "      <td>48</td>\n",
       "      <td>5</td>\n",
       "      <td>1</td>\n",
       "      <td>21</td>\n",
       "    </tr>\n",
       "    <tr>\n",
       "      <th>4</th>\n",
       "      <td>2012-12-01 21:12:12.0000003</td>\n",
       "      <td>2012-12-01 21:12:12+00:00</td>\n",
       "      <td>-73.966</td>\n",
       "      <td>40.790</td>\n",
       "      <td>-73.989</td>\n",
       "      <td>40.744</td>\n",
       "      <td>1</td>\n",
       "      <td>5.469</td>\n",
       "      <td>2012</td>\n",
       "      <td>12</td>\n",
       "      <td>48</td>\n",
       "      <td>5</td>\n",
       "      <td>1</td>\n",
       "      <td>21</td>\n",
       "    </tr>\n",
       "  </tbody>\n",
       "</table>\n",
       "</div>"
      ],
      "text/plain": [
       "                           key           pickup_datetime  pickup_longitude  \\\n",
       "0  2015-01-27 13:08:24.0000002 2015-01-27 13:08:24+00:00           -73.973   \n",
       "1  2015-01-27 13:08:24.0000003 2015-01-27 13:08:24+00:00           -73.987   \n",
       "2  2011-10-08 11:53:44.0000002 2011-10-08 11:53:44+00:00           -73.983   \n",
       "3  2012-12-01 21:12:12.0000002 2012-12-01 21:12:12+00:00           -73.981   \n",
       "4  2012-12-01 21:12:12.0000003 2012-12-01 21:12:12+00:00           -73.966   \n",
       "\n",
       "   pickup_latitude  dropoff_longitude  dropoff_latitude  passenger_count  \\\n",
       "0           40.764            -73.981            40.744                1   \n",
       "1           40.719            -73.999            40.739                1   \n",
       "2           40.751            -73.980            40.746                1   \n",
       "3           40.768            -73.990            40.752                1   \n",
       "4           40.790            -73.989            40.744                1   \n",
       "\n",
       "   distance  year  month  week  weekday  day  hour  \n",
       "0     2.324  2015      1     5        1   27    13  \n",
       "1     2.443  2015      1     5        1   27    13  \n",
       "2     0.611  2011     10    40        5    8    11  \n",
       "3     1.934  2012     12    48        5    1    21  \n",
       "4     5.469  2012     12    48        5    1    21  "
      ]
     },
     "execution_count": 75,
     "metadata": {},
     "output_type": "execute_result"
    }
   ],
   "source": [
    "test.head()"
   ]
  },
  {
   "cell_type": "code",
   "execution_count": 156,
   "id": "ea7be4d7",
   "metadata": {},
   "outputs": [],
   "source": [
    "# test.to_csv('test_preprocessed.csv', index=False)"
   ]
  },
  {
   "cell_type": "code",
   "execution_count": 2,
   "id": "59454f5d",
   "metadata": {},
   "outputs": [],
   "source": [
    "new_train = pd.read_csv('train_sub_preprocessed.csv')\n",
    "new_test = pd.read_csv('test_preprocessed.csv')"
   ]
  },
  {
   "cell_type": "code",
   "execution_count": 3,
   "id": "1ad34471",
   "metadata": {},
   "outputs": [
    {
     "data": {
      "text/plain": [
       "((8352383, 15), (9914, 14))"
      ]
     },
     "execution_count": 3,
     "metadata": {},
     "output_type": "execute_result"
    }
   ],
   "source": [
    "new_train.shape, new_test.shape"
   ]
  },
  {
   "cell_type": "code",
   "execution_count": 4,
   "id": "6ddcb462",
   "metadata": {},
   "outputs": [
    {
     "data": {
      "text/html": [
       "<div>\n",
       "<style scoped>\n",
       "    .dataframe tbody tr th:only-of-type {\n",
       "        vertical-align: middle;\n",
       "    }\n",
       "\n",
       "    .dataframe tbody tr th {\n",
       "        vertical-align: top;\n",
       "    }\n",
       "\n",
       "    .dataframe thead th {\n",
       "        text-align: right;\n",
       "    }\n",
       "</style>\n",
       "<table border=\"1\" class=\"dataframe\">\n",
       "  <thead>\n",
       "    <tr style=\"text-align: right;\">\n",
       "      <th></th>\n",
       "      <th>key</th>\n",
       "      <th>fare_amount</th>\n",
       "      <th>pickup_datetime</th>\n",
       "      <th>pickup_longitude</th>\n",
       "      <th>pickup_latitude</th>\n",
       "      <th>dropoff_longitude</th>\n",
       "      <th>dropoff_latitude</th>\n",
       "      <th>passenger_count</th>\n",
       "      <th>distance</th>\n",
       "      <th>year</th>\n",
       "      <th>month</th>\n",
       "      <th>week</th>\n",
       "      <th>weekday</th>\n",
       "      <th>day</th>\n",
       "      <th>hour</th>\n",
       "    </tr>\n",
       "  </thead>\n",
       "  <tbody>\n",
       "    <tr>\n",
       "      <th>0</th>\n",
       "      <td>2014-01-25 23:30:00.000000294</td>\n",
       "      <td>57.33</td>\n",
       "      <td>2014-01-25 23:30:00+00:00</td>\n",
       "      <td>-73.777</td>\n",
       "      <td>40.645</td>\n",
       "      <td>-73.984</td>\n",
       "      <td>40.757</td>\n",
       "      <td>1.0</td>\n",
       "      <td>21.438</td>\n",
       "      <td>2014</td>\n",
       "      <td>1</td>\n",
       "      <td>4</td>\n",
       "      <td>5</td>\n",
       "      <td>25</td>\n",
       "      <td>23</td>\n",
       "    </tr>\n",
       "    <tr>\n",
       "      <th>1</th>\n",
       "      <td>2012-01-15 18:48:00.00000024</td>\n",
       "      <td>4.50</td>\n",
       "      <td>2012-01-15 18:48:00+00:00</td>\n",
       "      <td>-74.002</td>\n",
       "      <td>40.730</td>\n",
       "      <td>-73.992</td>\n",
       "      <td>40.725</td>\n",
       "      <td>2.0</td>\n",
       "      <td>1.010</td>\n",
       "      <td>2012</td>\n",
       "      <td>1</td>\n",
       "      <td>2</td>\n",
       "      <td>6</td>\n",
       "      <td>15</td>\n",
       "      <td>18</td>\n",
       "    </tr>\n",
       "    <tr>\n",
       "      <th>2</th>\n",
       "      <td>2013-12-17 15:08:00.0000008</td>\n",
       "      <td>7.00</td>\n",
       "      <td>2013-12-17 15:08:00+00:00</td>\n",
       "      <td>-73.995</td>\n",
       "      <td>40.726</td>\n",
       "      <td>-74.011</td>\n",
       "      <td>40.729</td>\n",
       "      <td>1.0</td>\n",
       "      <td>1.389</td>\n",
       "      <td>2013</td>\n",
       "      <td>12</td>\n",
       "      <td>51</td>\n",
       "      <td>1</td>\n",
       "      <td>17</td>\n",
       "      <td>15</td>\n",
       "    </tr>\n",
       "    <tr>\n",
       "      <th>3</th>\n",
       "      <td>2009-06-26 05:59:30.0000002</td>\n",
       "      <td>10.10</td>\n",
       "      <td>2009-06-26 05:59:30+00:00</td>\n",
       "      <td>-73.978</td>\n",
       "      <td>40.746</td>\n",
       "      <td>-74.010</td>\n",
       "      <td>40.721</td>\n",
       "      <td>1.0</td>\n",
       "      <td>3.873</td>\n",
       "      <td>2009</td>\n",
       "      <td>6</td>\n",
       "      <td>26</td>\n",
       "      <td>4</td>\n",
       "      <td>26</td>\n",
       "      <td>5</td>\n",
       "    </tr>\n",
       "    <tr>\n",
       "      <th>4</th>\n",
       "      <td>2012-07-28 02:36:59.0000003</td>\n",
       "      <td>8.90</td>\n",
       "      <td>2012-07-28 02:36:59+00:00</td>\n",
       "      <td>-74.004</td>\n",
       "      <td>40.720</td>\n",
       "      <td>-74.015</td>\n",
       "      <td>40.709</td>\n",
       "      <td>1.0</td>\n",
       "      <td>1.535</td>\n",
       "      <td>2012</td>\n",
       "      <td>7</td>\n",
       "      <td>30</td>\n",
       "      <td>5</td>\n",
       "      <td>28</td>\n",
       "      <td>2</td>\n",
       "    </tr>\n",
       "  </tbody>\n",
       "</table>\n",
       "</div>"
      ],
      "text/plain": [
       "                             key  fare_amount            pickup_datetime  \\\n",
       "0  2014-01-25 23:30:00.000000294        57.33  2014-01-25 23:30:00+00:00   \n",
       "1   2012-01-15 18:48:00.00000024         4.50  2012-01-15 18:48:00+00:00   \n",
       "2    2013-12-17 15:08:00.0000008         7.00  2013-12-17 15:08:00+00:00   \n",
       "3    2009-06-26 05:59:30.0000002        10.10  2009-06-26 05:59:30+00:00   \n",
       "4    2012-07-28 02:36:59.0000003         8.90  2012-07-28 02:36:59+00:00   \n",
       "\n",
       "   pickup_longitude  pickup_latitude  dropoff_longitude  dropoff_latitude  \\\n",
       "0           -73.777           40.645            -73.984            40.757   \n",
       "1           -74.002           40.730            -73.992            40.725   \n",
       "2           -73.995           40.726            -74.011            40.729   \n",
       "3           -73.978           40.746            -74.010            40.721   \n",
       "4           -74.004           40.720            -74.015            40.709   \n",
       "\n",
       "   passenger_count  distance  year  month  week  weekday  day  hour  \n",
       "0              1.0    21.438  2014      1     4        5   25    23  \n",
       "1              2.0     1.010  2012      1     2        6   15    18  \n",
       "2              1.0     1.389  2013     12    51        1   17    15  \n",
       "3              1.0     3.873  2009      6    26        4   26     5  \n",
       "4              1.0     1.535  2012      7    30        5   28     2  "
      ]
     },
     "execution_count": 4,
     "metadata": {},
     "output_type": "execute_result"
    }
   ],
   "source": [
    "new_train.head()"
   ]
  },
  {
   "cell_type": "code",
   "execution_count": 5,
   "id": "fcbbbce6",
   "metadata": {},
   "outputs": [
    {
     "data": {
      "text/html": [
       "<div>\n",
       "<style scoped>\n",
       "    .dataframe tbody tr th:only-of-type {\n",
       "        vertical-align: middle;\n",
       "    }\n",
       "\n",
       "    .dataframe tbody tr th {\n",
       "        vertical-align: top;\n",
       "    }\n",
       "\n",
       "    .dataframe thead th {\n",
       "        text-align: right;\n",
       "    }\n",
       "</style>\n",
       "<table border=\"1\" class=\"dataframe\">\n",
       "  <thead>\n",
       "    <tr style=\"text-align: right;\">\n",
       "      <th></th>\n",
       "      <th>key</th>\n",
       "      <th>pickup_datetime</th>\n",
       "      <th>pickup_longitude</th>\n",
       "      <th>pickup_latitude</th>\n",
       "      <th>dropoff_longitude</th>\n",
       "      <th>dropoff_latitude</th>\n",
       "      <th>passenger_count</th>\n",
       "      <th>distance</th>\n",
       "      <th>year</th>\n",
       "      <th>month</th>\n",
       "      <th>week</th>\n",
       "      <th>weekday</th>\n",
       "      <th>day</th>\n",
       "      <th>hour</th>\n",
       "    </tr>\n",
       "  </thead>\n",
       "  <tbody>\n",
       "    <tr>\n",
       "      <th>0</th>\n",
       "      <td>2015-01-27 13:08:24.0000002</td>\n",
       "      <td>2015-01-27 13:08:24+00:00</td>\n",
       "      <td>-73.973</td>\n",
       "      <td>40.764</td>\n",
       "      <td>-73.981</td>\n",
       "      <td>40.744</td>\n",
       "      <td>1</td>\n",
       "      <td>2.324</td>\n",
       "      <td>2015</td>\n",
       "      <td>1</td>\n",
       "      <td>5</td>\n",
       "      <td>1</td>\n",
       "      <td>27</td>\n",
       "      <td>13</td>\n",
       "    </tr>\n",
       "    <tr>\n",
       "      <th>1</th>\n",
       "      <td>2015-01-27 13:08:24.0000003</td>\n",
       "      <td>2015-01-27 13:08:24+00:00</td>\n",
       "      <td>-73.987</td>\n",
       "      <td>40.719</td>\n",
       "      <td>-73.999</td>\n",
       "      <td>40.739</td>\n",
       "      <td>1</td>\n",
       "      <td>2.443</td>\n",
       "      <td>2015</td>\n",
       "      <td>1</td>\n",
       "      <td>5</td>\n",
       "      <td>1</td>\n",
       "      <td>27</td>\n",
       "      <td>13</td>\n",
       "    </tr>\n",
       "    <tr>\n",
       "      <th>2</th>\n",
       "      <td>2011-10-08 11:53:44.0000002</td>\n",
       "      <td>2011-10-08 11:53:44+00:00</td>\n",
       "      <td>-73.983</td>\n",
       "      <td>40.751</td>\n",
       "      <td>-73.980</td>\n",
       "      <td>40.746</td>\n",
       "      <td>1</td>\n",
       "      <td>0.611</td>\n",
       "      <td>2011</td>\n",
       "      <td>10</td>\n",
       "      <td>40</td>\n",
       "      <td>5</td>\n",
       "      <td>8</td>\n",
       "      <td>11</td>\n",
       "    </tr>\n",
       "    <tr>\n",
       "      <th>3</th>\n",
       "      <td>2012-12-01 21:12:12.0000002</td>\n",
       "      <td>2012-12-01 21:12:12+00:00</td>\n",
       "      <td>-73.981</td>\n",
       "      <td>40.768</td>\n",
       "      <td>-73.990</td>\n",
       "      <td>40.752</td>\n",
       "      <td>1</td>\n",
       "      <td>1.934</td>\n",
       "      <td>2012</td>\n",
       "      <td>12</td>\n",
       "      <td>48</td>\n",
       "      <td>5</td>\n",
       "      <td>1</td>\n",
       "      <td>21</td>\n",
       "    </tr>\n",
       "    <tr>\n",
       "      <th>4</th>\n",
       "      <td>2012-12-01 21:12:12.0000003</td>\n",
       "      <td>2012-12-01 21:12:12+00:00</td>\n",
       "      <td>-73.966</td>\n",
       "      <td>40.790</td>\n",
       "      <td>-73.989</td>\n",
       "      <td>40.744</td>\n",
       "      <td>1</td>\n",
       "      <td>5.469</td>\n",
       "      <td>2012</td>\n",
       "      <td>12</td>\n",
       "      <td>48</td>\n",
       "      <td>5</td>\n",
       "      <td>1</td>\n",
       "      <td>21</td>\n",
       "    </tr>\n",
       "  </tbody>\n",
       "</table>\n",
       "</div>"
      ],
      "text/plain": [
       "                           key            pickup_datetime  pickup_longitude  \\\n",
       "0  2015-01-27 13:08:24.0000002  2015-01-27 13:08:24+00:00           -73.973   \n",
       "1  2015-01-27 13:08:24.0000003  2015-01-27 13:08:24+00:00           -73.987   \n",
       "2  2011-10-08 11:53:44.0000002  2011-10-08 11:53:44+00:00           -73.983   \n",
       "3  2012-12-01 21:12:12.0000002  2012-12-01 21:12:12+00:00           -73.981   \n",
       "4  2012-12-01 21:12:12.0000003  2012-12-01 21:12:12+00:00           -73.966   \n",
       "\n",
       "   pickup_latitude  dropoff_longitude  dropoff_latitude  passenger_count  \\\n",
       "0           40.764            -73.981            40.744                1   \n",
       "1           40.719            -73.999            40.739                1   \n",
       "2           40.751            -73.980            40.746                1   \n",
       "3           40.768            -73.990            40.752                1   \n",
       "4           40.790            -73.989            40.744                1   \n",
       "\n",
       "   distance  year  month  week  weekday  day  hour  \n",
       "0     2.324  2015      1     5        1   27    13  \n",
       "1     2.443  2015      1     5        1   27    13  \n",
       "2     0.611  2011     10    40        5    8    11  \n",
       "3     1.934  2012     12    48        5    1    21  \n",
       "4     5.469  2012     12    48        5    1    21  "
      ]
     },
     "execution_count": 5,
     "metadata": {},
     "output_type": "execute_result"
    }
   ],
   "source": [
    "new_test.head()"
   ]
  },
  {
   "cell_type": "code",
   "execution_count": 6,
   "id": "4d06c7de",
   "metadata": {},
   "outputs": [],
   "source": [
    "new_train.drop(['key', 'pickup_datetime'], axis=1, inplace=True)"
   ]
  },
  {
   "cell_type": "code",
   "execution_count": 7,
   "id": "9670a267",
   "metadata": {},
   "outputs": [],
   "source": [
    "new_test.drop(['pickup_datetime'], axis=1, inplace=True)"
   ]
  },
  {
   "cell_type": "code",
   "execution_count": 8,
   "id": "03faf2b1",
   "metadata": {},
   "outputs": [
    {
     "data": {
      "text/html": [
       "<div>\n",
       "<style scoped>\n",
       "    .dataframe tbody tr th:only-of-type {\n",
       "        vertical-align: middle;\n",
       "    }\n",
       "\n",
       "    .dataframe tbody tr th {\n",
       "        vertical-align: top;\n",
       "    }\n",
       "\n",
       "    .dataframe thead th {\n",
       "        text-align: right;\n",
       "    }\n",
       "</style>\n",
       "<table border=\"1\" class=\"dataframe\">\n",
       "  <thead>\n",
       "    <tr style=\"text-align: right;\">\n",
       "      <th></th>\n",
       "      <th>fare_amount</th>\n",
       "      <th>pickup_longitude</th>\n",
       "      <th>pickup_latitude</th>\n",
       "      <th>dropoff_longitude</th>\n",
       "      <th>dropoff_latitude</th>\n",
       "      <th>passenger_count</th>\n",
       "      <th>distance</th>\n",
       "      <th>year</th>\n",
       "      <th>month</th>\n",
       "      <th>week</th>\n",
       "      <th>weekday</th>\n",
       "      <th>day</th>\n",
       "      <th>hour</th>\n",
       "    </tr>\n",
       "  </thead>\n",
       "  <tbody>\n",
       "    <tr>\n",
       "      <th>0</th>\n",
       "      <td>57.33</td>\n",
       "      <td>-73.777</td>\n",
       "      <td>40.645</td>\n",
       "      <td>-73.984</td>\n",
       "      <td>40.757</td>\n",
       "      <td>1.0</td>\n",
       "      <td>21.438</td>\n",
       "      <td>2014</td>\n",
       "      <td>1</td>\n",
       "      <td>4</td>\n",
       "      <td>5</td>\n",
       "      <td>25</td>\n",
       "      <td>23</td>\n",
       "    </tr>\n",
       "    <tr>\n",
       "      <th>1</th>\n",
       "      <td>4.50</td>\n",
       "      <td>-74.002</td>\n",
       "      <td>40.730</td>\n",
       "      <td>-73.992</td>\n",
       "      <td>40.725</td>\n",
       "      <td>2.0</td>\n",
       "      <td>1.010</td>\n",
       "      <td>2012</td>\n",
       "      <td>1</td>\n",
       "      <td>2</td>\n",
       "      <td>6</td>\n",
       "      <td>15</td>\n",
       "      <td>18</td>\n",
       "    </tr>\n",
       "    <tr>\n",
       "      <th>2</th>\n",
       "      <td>7.00</td>\n",
       "      <td>-73.995</td>\n",
       "      <td>40.726</td>\n",
       "      <td>-74.011</td>\n",
       "      <td>40.729</td>\n",
       "      <td>1.0</td>\n",
       "      <td>1.389</td>\n",
       "      <td>2013</td>\n",
       "      <td>12</td>\n",
       "      <td>51</td>\n",
       "      <td>1</td>\n",
       "      <td>17</td>\n",
       "      <td>15</td>\n",
       "    </tr>\n",
       "    <tr>\n",
       "      <th>3</th>\n",
       "      <td>10.10</td>\n",
       "      <td>-73.978</td>\n",
       "      <td>40.746</td>\n",
       "      <td>-74.010</td>\n",
       "      <td>40.721</td>\n",
       "      <td>1.0</td>\n",
       "      <td>3.873</td>\n",
       "      <td>2009</td>\n",
       "      <td>6</td>\n",
       "      <td>26</td>\n",
       "      <td>4</td>\n",
       "      <td>26</td>\n",
       "      <td>5</td>\n",
       "    </tr>\n",
       "    <tr>\n",
       "      <th>4</th>\n",
       "      <td>8.90</td>\n",
       "      <td>-74.004</td>\n",
       "      <td>40.720</td>\n",
       "      <td>-74.015</td>\n",
       "      <td>40.709</td>\n",
       "      <td>1.0</td>\n",
       "      <td>1.535</td>\n",
       "      <td>2012</td>\n",
       "      <td>7</td>\n",
       "      <td>30</td>\n",
       "      <td>5</td>\n",
       "      <td>28</td>\n",
       "      <td>2</td>\n",
       "    </tr>\n",
       "  </tbody>\n",
       "</table>\n",
       "</div>"
      ],
      "text/plain": [
       "   fare_amount  pickup_longitude  pickup_latitude  dropoff_longitude  \\\n",
       "0        57.33           -73.777           40.645            -73.984   \n",
       "1         4.50           -74.002           40.730            -73.992   \n",
       "2         7.00           -73.995           40.726            -74.011   \n",
       "3        10.10           -73.978           40.746            -74.010   \n",
       "4         8.90           -74.004           40.720            -74.015   \n",
       "\n",
       "   dropoff_latitude  passenger_count  distance  year  month  week  weekday  \\\n",
       "0            40.757              1.0    21.438  2014      1     4        5   \n",
       "1            40.725              2.0     1.010  2012      1     2        6   \n",
       "2            40.729              1.0     1.389  2013     12    51        1   \n",
       "3            40.721              1.0     3.873  2009      6    26        4   \n",
       "4            40.709              1.0     1.535  2012      7    30        5   \n",
       "\n",
       "   day  hour  \n",
       "0   25    23  \n",
       "1   15    18  \n",
       "2   17    15  \n",
       "3   26     5  \n",
       "4   28     2  "
      ]
     },
     "execution_count": 8,
     "metadata": {},
     "output_type": "execute_result"
    }
   ],
   "source": [
    "new_train.head()"
   ]
  },
  {
   "cell_type": "code",
   "execution_count": 9,
   "id": "5ec51c05",
   "metadata": {},
   "outputs": [
    {
     "data": {
      "text/html": [
       "<div>\n",
       "<style scoped>\n",
       "    .dataframe tbody tr th:only-of-type {\n",
       "        vertical-align: middle;\n",
       "    }\n",
       "\n",
       "    .dataframe tbody tr th {\n",
       "        vertical-align: top;\n",
       "    }\n",
       "\n",
       "    .dataframe thead th {\n",
       "        text-align: right;\n",
       "    }\n",
       "</style>\n",
       "<table border=\"1\" class=\"dataframe\">\n",
       "  <thead>\n",
       "    <tr style=\"text-align: right;\">\n",
       "      <th></th>\n",
       "      <th>key</th>\n",
       "      <th>pickup_longitude</th>\n",
       "      <th>pickup_latitude</th>\n",
       "      <th>dropoff_longitude</th>\n",
       "      <th>dropoff_latitude</th>\n",
       "      <th>passenger_count</th>\n",
       "      <th>distance</th>\n",
       "      <th>year</th>\n",
       "      <th>month</th>\n",
       "      <th>week</th>\n",
       "      <th>weekday</th>\n",
       "      <th>day</th>\n",
       "      <th>hour</th>\n",
       "    </tr>\n",
       "  </thead>\n",
       "  <tbody>\n",
       "    <tr>\n",
       "      <th>0</th>\n",
       "      <td>2015-01-27 13:08:24.0000002</td>\n",
       "      <td>-73.973</td>\n",
       "      <td>40.764</td>\n",
       "      <td>-73.981</td>\n",
       "      <td>40.744</td>\n",
       "      <td>1</td>\n",
       "      <td>2.324</td>\n",
       "      <td>2015</td>\n",
       "      <td>1</td>\n",
       "      <td>5</td>\n",
       "      <td>1</td>\n",
       "      <td>27</td>\n",
       "      <td>13</td>\n",
       "    </tr>\n",
       "    <tr>\n",
       "      <th>1</th>\n",
       "      <td>2015-01-27 13:08:24.0000003</td>\n",
       "      <td>-73.987</td>\n",
       "      <td>40.719</td>\n",
       "      <td>-73.999</td>\n",
       "      <td>40.739</td>\n",
       "      <td>1</td>\n",
       "      <td>2.443</td>\n",
       "      <td>2015</td>\n",
       "      <td>1</td>\n",
       "      <td>5</td>\n",
       "      <td>1</td>\n",
       "      <td>27</td>\n",
       "      <td>13</td>\n",
       "    </tr>\n",
       "    <tr>\n",
       "      <th>2</th>\n",
       "      <td>2011-10-08 11:53:44.0000002</td>\n",
       "      <td>-73.983</td>\n",
       "      <td>40.751</td>\n",
       "      <td>-73.980</td>\n",
       "      <td>40.746</td>\n",
       "      <td>1</td>\n",
       "      <td>0.611</td>\n",
       "      <td>2011</td>\n",
       "      <td>10</td>\n",
       "      <td>40</td>\n",
       "      <td>5</td>\n",
       "      <td>8</td>\n",
       "      <td>11</td>\n",
       "    </tr>\n",
       "    <tr>\n",
       "      <th>3</th>\n",
       "      <td>2012-12-01 21:12:12.0000002</td>\n",
       "      <td>-73.981</td>\n",
       "      <td>40.768</td>\n",
       "      <td>-73.990</td>\n",
       "      <td>40.752</td>\n",
       "      <td>1</td>\n",
       "      <td>1.934</td>\n",
       "      <td>2012</td>\n",
       "      <td>12</td>\n",
       "      <td>48</td>\n",
       "      <td>5</td>\n",
       "      <td>1</td>\n",
       "      <td>21</td>\n",
       "    </tr>\n",
       "    <tr>\n",
       "      <th>4</th>\n",
       "      <td>2012-12-01 21:12:12.0000003</td>\n",
       "      <td>-73.966</td>\n",
       "      <td>40.790</td>\n",
       "      <td>-73.989</td>\n",
       "      <td>40.744</td>\n",
       "      <td>1</td>\n",
       "      <td>5.469</td>\n",
       "      <td>2012</td>\n",
       "      <td>12</td>\n",
       "      <td>48</td>\n",
       "      <td>5</td>\n",
       "      <td>1</td>\n",
       "      <td>21</td>\n",
       "    </tr>\n",
       "  </tbody>\n",
       "</table>\n",
       "</div>"
      ],
      "text/plain": [
       "                           key  pickup_longitude  pickup_latitude  \\\n",
       "0  2015-01-27 13:08:24.0000002           -73.973           40.764   \n",
       "1  2015-01-27 13:08:24.0000003           -73.987           40.719   \n",
       "2  2011-10-08 11:53:44.0000002           -73.983           40.751   \n",
       "3  2012-12-01 21:12:12.0000002           -73.981           40.768   \n",
       "4  2012-12-01 21:12:12.0000003           -73.966           40.790   \n",
       "\n",
       "   dropoff_longitude  dropoff_latitude  passenger_count  distance  year  \\\n",
       "0            -73.981            40.744                1     2.324  2015   \n",
       "1            -73.999            40.739                1     2.443  2015   \n",
       "2            -73.980            40.746                1     0.611  2011   \n",
       "3            -73.990            40.752                1     1.934  2012   \n",
       "4            -73.989            40.744                1     5.469  2012   \n",
       "\n",
       "   month  week  weekday  day  hour  \n",
       "0      1     5        1   27    13  \n",
       "1      1     5        1   27    13  \n",
       "2     10    40        5    8    11  \n",
       "3     12    48        5    1    21  \n",
       "4     12    48        5    1    21  "
      ]
     },
     "execution_count": 9,
     "metadata": {},
     "output_type": "execute_result"
    }
   ],
   "source": [
    "new_test.head()"
   ]
  },
  {
   "cell_type": "code",
   "execution_count": 10,
   "id": "48cd0c01",
   "metadata": {},
   "outputs": [
    {
     "data": {
      "text/plain": [
       "((8352383, 13), (9914, 13))"
      ]
     },
     "execution_count": 10,
     "metadata": {},
     "output_type": "execute_result"
    }
   ],
   "source": [
    "new_train.shape, new_test.shape"
   ]
  },
  {
   "cell_type": "code",
   "execution_count": 11,
   "id": "9dc1ffae",
   "metadata": {},
   "outputs": [],
   "source": [
    "X_train, y_train, X_test = new_train.iloc[:, 1:], new_train.fare_amount, new_test.iloc[:, 1:]"
   ]
  },
  {
   "cell_type": "markdown",
   "id": "9a3526ce",
   "metadata": {},
   "source": [
    "### **Training the various models to generate submission file for the problem.**"
   ]
  },
  {
   "cell_type": "code",
   "execution_count": 15,
   "id": "b11dac35",
   "metadata": {},
   "outputs": [],
   "source": [
    "lr = LinearRegression(n_jobs=-1)\n",
    "rg = Ridge(random_state=999)\n",
    "rfr = RandomForestRegressor(n_jobs=-1, random_state=999)\n",
    "gbr = GradientBoostingRegressor(random_state=999)\n",
    "xgb = XGBRegressor(n_jobs=-1, random_state=999)\n",
    "rfr2 = RandomForestRegressor(max_depth=10, n_jobs=-1, random_state=999)"
   ]
  },
  {
   "cell_type": "code",
   "execution_count": 16,
   "id": "b5497391",
   "metadata": {},
   "outputs": [],
   "source": [
    "lr.fit(X_train, y_train)\n",
    "fare_amount = pd.Series(lr.predict(X_test))\n",
    "predictions = pd.concat([new_test['key'], fare_amount], axis = 1)\n",
    "predictions = predictions.rename(columns = {0: 'fare_amount'})\n",
    "pd.options.display.float_format = '{:,.2f}'.format\n",
    "predictions.to_csv('Results_lr.csv', index=False)"
   ]
  },
  {
   "cell_type": "code",
   "execution_count": 17,
   "id": "1482a02a",
   "metadata": {},
   "outputs": [],
   "source": [
    "rg.fit(X_train, y_train)\n",
    "fare_amount = pd.Series(rg.predict(X_test))\n",
    "predictions = pd.concat([new_test['key'], fare_amount], axis = 1)\n",
    "predictions = predictions.rename(columns = {0: 'fare_amount'})\n",
    "pd.options.display.float_format = '{:,.2f}'.format\n",
    "predictions.to_csv('Results_rg.csv', index=False)"
   ]
  },
  {
   "cell_type": "code",
   "execution_count": 18,
   "id": "7185448c",
   "metadata": {},
   "outputs": [],
   "source": [
    "rfr.fit(X_train, y_train)\n",
    "fare_amount = pd.Series(rfr.predict(X_test))\n",
    "predictions = pd.concat([new_test['key'], fare_amount], axis = 1)\n",
    "predictions = predictions.rename(columns = {0: 'fare_amount'})\n",
    "pd.options.display.float_format = '{:,.2f}'.format\n",
    "predictions.to_csv('Results_rfr.csv', index=False)"
   ]
  },
  {
   "cell_type": "code",
   "execution_count": 19,
   "id": "1b945e92",
   "metadata": {},
   "outputs": [],
   "source": [
    "xgb.fit(X_train, y_train)\n",
    "fare_amount = pd.Series(xgb.predict(X_test))\n",
    "predictions = pd.concat([new_test['key'], fare_amount], axis = 1)\n",
    "predictions = predictions.rename(columns = {0: 'fare_amount'})\n",
    "pd.options.display.float_format = '{:,.2f}'.format\n",
    "predictions.to_csv('Results_xgb.csv', index=False)"
   ]
  },
  {
   "cell_type": "code",
   "execution_count": 20,
   "id": "ac289f06",
   "metadata": {},
   "outputs": [],
   "source": [
    "gbr.fit(X_train, y_train)\n",
    "fare_amount = pd.Series(gbr.predict(X_test))\n",
    "predictions = pd.concat([new_test['key'], fare_amount], axis = 1)\n",
    "predictions = predictions.rename(columns = {0: 'fare_amount'})\n",
    "pd.options.display.float_format = '{:,.2f}'.format\n",
    "predictions.to_csv('Results_gbr.csv', index=False)"
   ]
  },
  {
   "cell_type": "code",
   "execution_count": 21,
   "id": "b1c5cbf7",
   "metadata": {},
   "outputs": [],
   "source": [
    "rfr2.fit(X_train, y_train)\n",
    "fare_amount = pd.Series(rfr2.predict(X_test))\n",
    "predictions = pd.concat([new_test['key'], fare_amount], axis = 1)\n",
    "predictions = predictions.rename(columns = {0: 'fare_amount'})\n",
    "pd.options.display.float_format = '{:,.2f}'.format\n",
    "predictions.to_csv('Results_rfr2.csv', index=False)"
   ]
  },
  {
   "cell_type": "code",
   "execution_count": 12,
   "id": "a2950903",
   "metadata": {},
   "outputs": [
    {
     "data": {
      "text/plain": [
       "((8352383, 12), (8352383,), (9914, 12))"
      ]
     },
     "execution_count": 12,
     "metadata": {},
     "output_type": "execute_result"
    }
   ],
   "source": [
    "X_train.shape, y_train.shape, X_test.shape"
   ]
  },
  {
   "cell_type": "code",
   "execution_count": 18,
   "id": "ab39d0fd",
   "metadata": {},
   "outputs": [
    {
     "name": "stderr",
     "output_type": "stream",
     "text": [
      "/home/cs20mtech01004/anaconda3/lib/python3.7/site-packages/joblib/externals/loky/process_executor.py:706: UserWarning: A worker stopped while some jobs were given to the executor. This can be caused by a too short worker timeout or by a memory leak.\n",
      "  \"timeout or by a memory leak.\", UserWarning\n"
     ]
    }
   ],
   "source": [
    "params = {'max_depth': [5,7,9], 'n_estimators': [50, 100, 150], 'max_features': ['sqrt', 'log2']}\n",
    "gs = GridSearchCV(estimator = RandomForestRegressor(n_jobs=30), param_grid = params, scoring = 'neg_mean_squared_error', n_jobs=2, cv = 5)\n",
    "gs = gs.fit(X_train, y_train)\n",
    "best_score = gs.best_score_\n",
    "best_params = gs.best_params_"
   ]
  },
  {
   "cell_type": "code",
   "execution_count": 19,
   "id": "27b24e37",
   "metadata": {},
   "outputs": [],
   "source": [
    "rfr3 = RandomForestRegressor(n_estimators=50, max_depth=5, max_features='sqrt', n_jobs=-1, random_state=999)\n",
    "rfr3.fit(X_train, y_train)\n",
    "fare_amount = pd.Series(rfr3.predict(X_test))\n",
    "predictions = pd.concat([new_test['key'], fare_amount], axis = 1)\n",
    "predictions = predictions.rename(columns = {0: 'fare_amount'})\n",
    "pd.options.display.float_format = '{:,.2f}'.format\n",
    "predictions.to_csv('Results_rfr3.csv', index=False)"
   ]
  },
  {
   "cell_type": "code",
   "execution_count": 20,
   "id": "e17aa4f7",
   "metadata": {},
   "outputs": [],
   "source": [
    "rfr4 = RandomForestRegressor(n_estimators=50, max_depth=10, max_features='sqrt', n_jobs=-1, random_state=999)\n",
    "rfr4.fit(X_train, y_train)\n",
    "fare_amount = pd.Series(rfr4.predict(X_test))\n",
    "predictions = pd.concat([new_test['key'], fare_amount], axis = 1)\n",
    "predictions = predictions.rename(columns = {0: 'fare_amount'})\n",
    "pd.options.display.float_format = '{:,.2f}'.format\n",
    "predictions.to_csv('Results_rfr4.csv', index=False)"
   ]
  },
  {
   "cell_type": "code",
   "execution_count": 22,
   "id": "97aebabe",
   "metadata": {},
   "outputs": [],
   "source": [
    "rfr5 = RandomForestRegressor(n_estimators=50, max_depth=15, max_features='sqrt', n_jobs=-1, random_state=999)\n",
    "rfr5.fit(X_train, y_train)\n",
    "fare_amount = pd.Series(rfr5.predict(X_test))\n",
    "predictions = pd.concat([new_test['key'], fare_amount], axis = 1)\n",
    "predictions = predictions.rename(columns = {0: 'fare_amount'})\n",
    "pd.options.display.float_format = '{:,.2f}'.format\n",
    "predictions.to_csv('Results_rfr5.csv', index=False)"
   ]
  },
  {
   "cell_type": "code",
   "execution_count": 26,
   "id": "1a3bfce0",
   "metadata": {},
   "outputs": [],
   "source": [
    "rfr6 = RandomForestRegressor(n_estimators=50, max_depth=15, max_features='log2', n_jobs=-1, random_state=999)\n",
    "rfr6.fit(X_train, y_train)\n",
    "fare_amount = pd.Series(rfr6.predict(X_test))\n",
    "predictions = pd.concat([new_test['key'], fare_amount], axis = 1)\n",
    "predictions = predictions.rename(columns = {0: 'fare_amount'})\n",
    "pd.options.display.float_format = '{:,.2f}'.format\n",
    "predictions.to_csv('Results_rfr6.csv', index=False)"
   ]
  },
  {
   "cell_type": "code",
   "execution_count": 27,
   "id": "e9dc48f3",
   "metadata": {},
   "outputs": [],
   "source": [
    "rfr7 = RandomForestRegressor(n_estimators=50, max_depth=20, max_features='sqrt', n_jobs=-1, random_state=999)\n",
    "rfr7.fit(X_train, y_train)\n",
    "fare_amount = pd.Series(rfr7.predict(X_test))\n",
    "predictions = pd.concat([new_test['key'], fare_amount], axis = 1)\n",
    "predictions = predictions.rename(columns = {0: 'fare_amount'})\n",
    "pd.options.display.float_format = '{:,.2f}'.format\n",
    "predictions.to_csv('Results_rfr7.csv', index=False)"
   ]
  },
  {
   "cell_type": "code",
   "execution_count": 28,
   "id": "0732d318",
   "metadata": {},
   "outputs": [],
   "source": [
    "rfr8 = RandomForestRegressor(n_estimators=100, max_depth=20, max_features='sqrt', n_jobs=-1, random_state=999)\n",
    "rfr8.fit(X_train, y_train)\n",
    "fare_amount = pd.Series(rfr8.predict(X_test))\n",
    "predictions = pd.concat([new_test['key'], fare_amount], axis = 1)\n",
    "predictions = predictions.rename(columns = {0: 'fare_amount'})\n",
    "pd.options.display.float_format = '{:,.2f}'.format\n",
    "predictions.to_csv('Results_rfr8.csv', index=False)"
   ]
  },
  {
   "cell_type": "code",
   "execution_count": 30,
   "id": "09636094",
   "metadata": {},
   "outputs": [],
   "source": [
    "rfr9 = RandomForestRegressor(n_estimators=100, max_depth=20, n_jobs=-1, random_state=999)\n",
    "rfr9.fit(X_train, y_train)\n",
    "fare_amount = pd.Series(rfr9.predict(X_test))\n",
    "predictions = pd.concat([new_test['key'], fare_amount], axis = 1)\n",
    "predictions = predictions.rename(columns = {0: 'fare_amount'})\n",
    "pd.options.display.float_format = '{:,.2f}'.format\n",
    "predictions.to_csv('Results_rfr9.csv', index=False)"
   ]
  },
  {
   "cell_type": "code",
   "execution_count": 31,
   "id": "1919f168",
   "metadata": {},
   "outputs": [],
   "source": [
    "rfr10 = RandomForestRegressor(n_estimators=100, max_depth=50, max_features='sqrt', n_jobs=-1, random_state=999)\n",
    "rfr10.fit(X_train, y_train)\n",
    "fare_amount = pd.Series(rfr10.predict(X_test))\n",
    "predictions = pd.concat([new_test['key'], fare_amount], axis = 1)\n",
    "predictions = predictions.rename(columns = {0: 'fare_amount'})\n",
    "pd.options.display.float_format = '{:,.2f}'.format\n",
    "predictions.to_csv('Results_rfr10.csv', index=False)"
   ]
  },
  {
   "cell_type": "code",
   "execution_count": null,
   "id": "2727cda9",
   "metadata": {},
   "outputs": [],
   "source": [
    "rfr11 = RandomForestRegressor(n_estimators=150, max_depth=100, max_features='sqrt', n_jobs=-1, random_state=999)\n",
    "rfr11.fit(X_train, y_train)\n",
    "fare_amount = pd.Series(rfr11.predict(X_test))\n",
    "predictions = pd.concat([new_test['key'], fare_amount], axis = 1)\n",
    "predictions = predictions.rename(columns = {0: 'fare_amount'})\n",
    "pd.options.display.float_format = '{:,.2f}'.format\n",
    "predictions.to_csv('Results_rfr10.csv', index=False)"
   ]
  },
  {
   "cell_type": "code",
   "execution_count": 14,
   "id": "1ad5f06b",
   "metadata": {},
   "outputs": [],
   "source": [
    "rfr12 = RandomForestRegressor(n_estimators=100, max_depth=100, max_features='sqrt', n_jobs=-1, random_state=999)\n",
    "rfr12.fit(X_train, y_train)\n",
    "fare_amount = pd.Series(rfr12.predict(X_test))\n",
    "predictions = pd.concat([new_test['key'], fare_amount], axis = 1)\n",
    "predictions = predictions.rename(columns = {0: 'fare_amount'})\n",
    "pd.options.display.float_format = '{:,.2f}'.format\n",
    "predictions.to_csv('Results_rfr12.csv', index=False)"
   ]
  },
  {
   "cell_type": "code",
   "execution_count": null,
   "id": "5f9b0d66",
   "metadata": {},
   "outputs": [],
   "source": [
    "rfr13 = RandomForestRegressor(n_estimators=150, max_depth=50, max_features='sqrt', n_jobs=-1, random_state=999)\n",
    "rfr13.fit(X_train, y_train)\n",
    "fare_amount = pd.Series(rfr13.predict(X_test))\n",
    "predictions = pd.concat([new_test['key'], fare_amount], axis = 1)\n",
    "predictions = predictions.rename(columns = {0: 'fare_amount'})\n",
    "pd.options.display.float_format = '{:,.2f}'.format\n",
    "predictions.to_csv('Results_rfr13.csv', index=False)"
   ]
  },
  {
   "cell_type": "code",
   "execution_count": 33,
   "id": "0feb8c0c",
   "metadata": {},
   "outputs": [],
   "source": [
    "# def plot_decision_boundaries(X, y, model_class, **model_params):\n",
    "#     \"\"\"\n",
    "#     Function to plot the decision boundaries of a classification model.\n",
    "#     This uses just the first two columns of the data for fitting \n",
    "#     the model as we need to find the predicted value for every point in \n",
    "#     scatter plot.\n",
    "#     Arguments:\n",
    "#             X: Feature data as a NumPy-type array.\n",
    "#             y: Label data as a NumPy-type array.\n",
    "#             model_class: A Scikit-learn ML estimator class \n",
    "#             e.g. GaussianNB (imported from sklearn.naive_bayes) or\n",
    "#             LogisticRegression (imported from sklearn.linear_model)\n",
    "#             **model_params: Model parameters to be passed on to the ML estimator\n",
    "    \n",
    "#     Typical code example:\n",
    "#             plt.figure()\n",
    "#             plt.title(\"KNN decision boundary with neighbros: 5\",fontsize=16)\n",
    "#             plot_decision_boundaries(X_train,y_train,KNeighborsClassifier,n_neighbors=5)\n",
    "#             plt.show()\n",
    "#     \"\"\"\n",
    "#     try:\n",
    "#         X = np.array(X)\n",
    "#         y = np.array(y).flatten()\n",
    "#     except:\n",
    "#         print(\"Coercing input data to NumPy arrays failed\")\n",
    "#     # Reduces to the first two columns of data\n",
    "#     reduced_data = X[:, :2]\n",
    "#     # Instantiate the model object\n",
    "#     model = model_class(**model_params)\n",
    "#     # Fits the model with the reduced data\n",
    "#     model.fit(reduced_data, y)\n",
    "\n",
    "#     # Step size of the mesh. Decrease to increase the quality of the VQ.\n",
    "#     h = .02     # point in the mesh [x_min, m_max]x[y_min, y_max].    \n",
    "\n",
    "#     # Plot the decision boundary. For that, we will assign a color to each\n",
    "#     x_min, x_max = reduced_data[:, 0].min() - 1, reduced_data[:, 0].max() + 1\n",
    "#     y_min, y_max = reduced_data[:, 1].min() - 1, reduced_data[:, 1].max() + 1\n",
    "#     # Meshgrid creation\n",
    "#     xx, yy = np.meshgrid(np.arange(x_min, x_max, h), np.arange(y_min, y_max, h))\n",
    "\n",
    "#     # Obtain labels for each point in mesh using the model.\n",
    "#     Z = model.predict(np.c_[xx.ravel(), yy.ravel()])    \n",
    "\n",
    "#     x_min, x_max = X[:, 0].min() - 1, X[:, 0].max() + 1\n",
    "#     y_min, y_max = X[:, 1].min() - 1, X[:, 1].max() + 1\n",
    "#     xx, yy = np.meshgrid(np.arange(x_min, x_max, 0.1),\n",
    "#                          np.arange(y_min, y_max, 0.1))\n",
    "\n",
    "#     # Predictions to obtain the classification results\n",
    "#     Z = model.predict(np.c_[xx.ravel(), yy.ravel()]).reshape(xx.shape)\n",
    "\n",
    "#     # Plotting\n",
    "#     plt.contourf(xx, yy, Z, alpha=0.4)\n",
    "#     plt.scatter(X[:, 0], X[:, 1], c=y, alpha=0.8)\n",
    "#     plt.xlabel(\"Feature-1\",fontsize=15)\n",
    "#     plt.ylabel(\"Feature-2\",fontsize=15)\n",
    "#     plt.xticks(fontsize=14)\n",
    "#     plt.yticks(fontsize=14)\n",
    "#     return plt"
   ]
  },
  {
   "cell_type": "code",
   "execution_count": null,
   "id": "d6ec3aea",
   "metadata": {},
   "outputs": [],
   "source": [
    "# plot_decision_boundaries(rfr, X_train, y_train, )"
   ]
  },
  {
   "cell_type": "markdown",
   "id": "93ffabe6",
   "metadata": {},
   "source": [
    "### **Reportings:**\n",
    "1. Random forest model with default hyperparameters is the **best model** to yield best results with a score: **3.132 (rfr10.csv)** with **n_estimators=100, max_depth=50, max_features='sqrt'** as hyperparameters.\n",
    "2. Random forest is also the **second best** performing model and is able to score: **3.144 (rfr12.csv)** with **n_estimators=100, max_depth=100, max_features='sqrt'** as hyperparameters.\n",
    "3. Other than RF classifier, XGBoost is the second best performing classifier with score **3.344 (xgb.csv)** and default hyperparameters.\n",
    "3. All the other methods starting from the linear regression model to gradient boosting were not able to capture the decision boundaries so well and hence the results reported were less.\n",
    "4. The best model i.e, random forest was able to capture well the decision boundaries. As it is an ensemble model based on bagging of decision trees and decision trees itself being very powerful in capturing complex linear decision boundaries, this approach outperformed every other approach there is."
   ]
  },
  {
   "cell_type": "code",
   "execution_count": null,
   "id": "8085d999",
   "metadata": {},
   "outputs": [],
   "source": []
  }
 ],
 "metadata": {
  "kernelspec": {
   "display_name": "Python 3",
   "language": "python",
   "name": "python3"
  },
  "language_info": {
   "codemirror_mode": {
    "name": "ipython",
    "version": 3
   },
   "file_extension": ".py",
   "mimetype": "text/x-python",
   "name": "python",
   "nbconvert_exporter": "python",
   "pygments_lexer": "ipython3",
   "version": "3.8.8"
  }
 },
 "nbformat": 4,
 "nbformat_minor": 5
}
